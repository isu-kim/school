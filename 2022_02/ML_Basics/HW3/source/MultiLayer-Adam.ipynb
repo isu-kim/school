{
 "cells": [
  {
   "cell_type": "markdown",
   "id": "df949a99",
   "metadata": {},
   "source": [
    "# MLP Implementation with ADAM Optimizer\n",
    "### A code that implements MLP with multiple layers\n",
    "By Isu Kim @ https://github.com/isu-kim"
   ]
  },
  {
   "cell_type": "code",
   "execution_count": 1,
   "id": "a578993d",
   "metadata": {},
   "outputs": [],
   "source": [
    "import numpy as np\n",
    "import random"
   ]
  },
  {
   "cell_type": "code",
   "execution_count": 2,
   "id": "19a3dae0",
   "metadata": {},
   "outputs": [],
   "source": [
    "import random\n",
    "\n",
    "\n",
    "def train_validate_split(x, y, train_percentage):\n",
    "    \"\"\"\n",
    "    A function that splits train data and validate data with given ratio\n",
    "    \n",
    "    @param x: The list of x.\n",
    "    @param y: The list of y.\n",
    "    @param train_percentage: The total train data's percentage. 0.8 for 80%\n",
    "    @return: tuple in train_x, train_y, validate_x, validate_y\n",
    "    \"\"\"\n",
    "    all_data = [i for i in range(len(x))]\n",
    "    selected = list()\n",
    "    for i in range(int(train_percentage * len(x))):\n",
    "        choice = random.choice(all_data)\n",
    "        selected.append(choice)\n",
    "        all_data.remove(choice)\n",
    "    \n",
    "    print(\"Total Train : \" + str(len(selected)) + \" / Total Validation : \" + str(len(all_data)))\n",
    "    \n",
    "    train_x = [x[i] for i in selected]\n",
    "    train_y = [y[i] for i in selected]\n",
    "    validate_x = [x[i] for i in all_data]\n",
    "    validate_y = [y[i] for i in all_data]\n",
    "    \n",
    "    return train_x, train_y, validate_x, validate_y"
   ]
  },
  {
   "cell_type": "code",
   "execution_count": 58,
   "id": "c862961b",
   "metadata": {},
   "outputs": [],
   "source": [
    "class ActivationFunction:\n",
    "    \"\"\"\n",
    "    A class that includes all methods for activation functions.\n",
    "    \"\"\"\n",
    "    def sigmoid(x):\n",
    "        \"\"\"\n",
    "        The sigmoid function.\n",
    "        @param x: The x value to calculate sigmoid\n",
    "        @return: sigmoid(x) value\n",
    "        \"\"\"\n",
    "        try:\n",
    "            z = 1/(1+np.exp(-x))\n",
    "            return z\n",
    "        except RuntimeWarning:\n",
    "            print(x)\n",
    "    \n",
    "    def relu(x):\n",
    "        \"\"\"\n",
    "        The ReLU function.\n",
    "        @param x: The x value to calculate ReLU\n",
    "        @return: ReLU(x) value        \n",
    "        \"\"\"\n",
    "        return np.maximum(0, x)\n",
    "    def linear(x):\n",
    "        \"\"\"\n",
    "        The identity function.\n",
    "        @param x: The x value to calculate identity\n",
    "        @return: x value     \n",
    "        \"\"\"\n",
    "        return x\n",
    "    def tanh(x):\n",
    "        \"\"\"\n",
    "        The tanh function.\n",
    "        @param x: The x value to calculate tanh\n",
    "        @return: tanh(x)  \n",
    "        \"\"\"\n",
    "        return np.tanh(x)\n",
    "    \n",
    "    \n",
    "class ActivationFunctionDerivative:\n",
    "    \"\"\"\n",
    "    A class that includes all methods for derivative of activiation functions.\n",
    "    \"\"\"\n",
    "    def sigmoid(x):\n",
    "        \"\"\"\n",
    "        The derivative of sigmoid function.\n",
    "        @param x: The x value to calculate derivative sigmoid\n",
    "        @return: derivative of sigmoid(x) value\n",
    "        \"\"\"\n",
    "        return ActivationFunction.sigmoid(x) * (1 - ActivationFunction.sigmoid(x))\n",
    "    \n",
    "    def relu(x):\n",
    "        \"\"\"\n",
    "        The derivative of ReLU function.\n",
    "        @param x: The x value to calculate derivative ReLU\n",
    "        @return: derivative of ReLU(x) value\n",
    "        \"\"\"\n",
    "        if x > 0:\n",
    "            return 1\n",
    "        else:\n",
    "            return 0\n",
    "        \n",
    "    def linear(x):\n",
    "        \"\"\"\n",
    "        The derivative of linear function.\n",
    "        @param x: The x value to calculate derivative linear\n",
    "        @return: derivative of linear(x) value\n",
    "        \"\"\"\n",
    "        return 1\n",
    "    \n",
    "    def tanh(x):\n",
    "        \"\"\"\n",
    "        The derivative of tanh function.\n",
    "        @param x: The x value to calculate derivative tanh\n",
    "        @return: derivative of tanh(x) value\n",
    "        \"\"\"\n",
    "        return 1 - (np.tanh(x)) ** 2"
   ]
  },
  {
   "cell_type": "code",
   "execution_count": 59,
   "id": "ceefc27b",
   "metadata": {},
   "outputs": [],
   "source": [
    "class Node:\n",
    "    \"\"\"\n",
    "    A class that defines and implements a node (perceptron)\n",
    "    \"\"\"\n",
    "    def __init__(self, activation_function, layer_count, node_count):\n",
    "        \"\"\"\n",
    "        Intializer method for class Node.\n",
    "        @param activiation_function: The type of activiation function.\n",
    "        @param layer_count: Which layer this node is residing in.\n",
    "        @param node_count: Which index is this node located at from the layer.\n",
    "        \"\"\"\n",
    "        self.activation = None\n",
    "        self.activiation_derivative = None\n",
    "        self.z = 0\n",
    "        self.h = 0\n",
    "        self.layer_count = layer_count\n",
    "        self.node_count = node_count\n",
    "        self.weights = list()\n",
    "\n",
    "        try:  # Set activation function.\n",
    "            self.activation = eval(\"ActivationFunction.\" + activation_function)\n",
    "            self.activiation_derivative = eval(\"ActivationFunctionDerivative.\" + activation_function)\n",
    "        except AttributeError:\n",
    "            print(\"[ERROR] Invalid Activation function : \" + activation_function)\n",
    "            raise ValueError \n",
    "\n",
    "    def get_derivative_z(self):\n",
    "        \"\"\"\n",
    "        A method that calculates derivative of this node and inputs z.\n",
    "        This is for calculating backpropagation.\n",
    "        \"\"\"\n",
    "        return self.activiation_derivative(self.z)        \n",
    "    \n",
    "    def calc_h(self):\n",
    "        \"\"\"\n",
    "        A method that calculates h of current node.\n",
    "        This is for calculating forward propagation.\n",
    "        \"\"\"\n",
    "        self.h = self.activation(self.z)\n",
    "    \n",
    "    def __repr__(self):\n",
    "        \"\"\"\n",
    "        A __repr__ method for class Node.\n",
    "        @return: The node information.\n",
    "        \"\"\" \n",
    "        ret = \"Node \" + str(self.node_count) + \" at Layer : \" + str(self.layer_count)\n",
    "        #ret += \"\\nz: \" + str(self.z) + \" / h: \" + str(self.h)\n",
    "        return ret"
   ]
  },
  {
   "cell_type": "code",
   "execution_count": 60,
   "id": "8c52df67",
   "metadata": {},
   "outputs": [],
   "source": [
    "class Weight:\n",
    "    \"\"\"\n",
    "    A class that defines and implementes a weight.\n",
    "    \"\"\"\n",
    "    def __init__(self, from_node, to_node):\n",
    "        \"\"\"\n",
    "        Initializer method for class Weight\n",
    "        @param from_node: The node that this weight is coming from.\n",
    "        @param to_node: The node that this weight is heading into.\n",
    "        \"\"\"\n",
    "        self.from_node = from_node\n",
    "        self.to_node = to_node\n",
    "        self.value = random.random()  # Initialize random weight\n",
    "        self.last_m = 0  # For ADAM\n",
    "        self.last_v = 0  # For ADAM\n",
    "        self.t = 0\n",
    "        #self.value = 1  # Fix it 1\n",
    "    \n",
    "    def __repr__(self):\n",
    "        \"\"\"\n",
    "        A __repr__ method for class Weight.\n",
    "        @return: The weight information.\n",
    "        \"\"\"\n",
    "        return \"Weight : \" + str(self.from_node.layer_count) + \"'s \" + str(self.from_node.node_count) + \" -> \" + str(self.to_node.layer_count) + \"'s \" + str(self.to_node.node_count) + \"\\nValue: \" + str(self.value) "
   ]
  },
  {
   "cell_type": "code",
   "execution_count": 61,
   "id": "b22f5355",
   "metadata": {},
   "outputs": [],
   "source": [
    "class Layer:\n",
    "    \"\"\"\n",
    "    A class that defines and implements a layer.\n",
    "    \"\"\"\n",
    "    def __init__(self, layer_index, nodes, activiation, is_output_layer):\n",
    "        \"\"\"\n",
    "        Initializer method for class Layer.\n",
    "        @param layer_index: The current layer's index.\n",
    "        @param nodes: The list of nodes that this layer will be getting.\n",
    "        @param activiation: The activation function of this layer.\n",
    "        @param is_output_layer: Whether or not this layer is the output layer.\n",
    "        \"\"\"\n",
    "        self.activation = activiation\n",
    "        self.nodes = nodes\n",
    "        self.weights = list()\n",
    "        self.layer_index = layer_index\n",
    "        self.is_output_layer = is_output_layer\n",
    "        \n",
    "        if not is_output_layer:\n",
    "            bias = Node(\"linear\", layer_index, \"bias\")\n",
    "            bias.h = 1\n",
    "            self.nodes.append(bias)\n",
    "        \n",
    "    def set_weights(self, weights):\n",
    "        \"\"\"\n",
    "        A method that sets weights\n",
    "        @param weights: The list object of Weights.\n",
    "        \"\"\"\n",
    "        self.weights = weights\n",
    "        \n",
    "    def __repr__(self):\n",
    "        \"\"\"\n",
    "        A __repr__ method for class Layer.\n",
    "        @return: The layer information.\n",
    "        \"\"\"\n",
    "        ret = \"===== Layer \" + str(self.layer_index) + \" =====\\n\"\n",
    "        ret += \"Activiation: \" + str(self.activation) + \"\\n\"\n",
    "        ret += \"Node Count (Including Bias): \" + str(len(self.nodes)) + \"\\n\"\n",
    "        ret += \"Weight Count: \" + str(len(self.weights)) +\"\\n\"\n",
    "        if self.is_output_layer:\n",
    "            ret += \"===== Output =====\"\n",
    "        return ret"
   ]
  },
  {
   "cell_type": "code",
   "execution_count": 62,
   "id": "f18e1acf",
   "metadata": {},
   "outputs": [
    {
     "data": {
      "text/plain": [
       "100"
      ]
     },
     "execution_count": 62,
     "metadata": {},
     "output_type": "execute_result"
    }
   ],
   "source": [
    "import decimal\n",
    "decimal.getcontext().prec\n"
   ]
  },
  {
   "cell_type": "code",
   "execution_count": 63,
   "id": "ba2c3f29",
   "metadata": {},
   "outputs": [],
   "source": [
    "class Network:\n",
    "    \"\"\"\n",
    "    A class that defines and implements a network.\n",
    "    \"\"\"\n",
    "    def __init__(self, layer_node_counts, layer_activiation_functions):\n",
    "        \"\"\"\n",
    "        Initializer method for class Network.\n",
    "        @param layer_node_counts: The tuple including each layer's perceptron counts.\n",
    "        @param layer_activiation_functions: The tuple including each layer's activiation functions.\n",
    "        \"\"\"\n",
    "        if (len(layer_node_counts) != len(layer_activiation_functions)):\n",
    "            print(\"[ERROR] Layer information mismatch.\")\n",
    "            raise ValueError\n",
    "            \n",
    "        self.layers = list()\n",
    "        self.min = 0\n",
    "        self.max = 0 \n",
    "        self.mid = 0\n",
    "        layer_count = 0\n",
    "        # Generate Layers.\n",
    "        for node_count, activiation_function in zip(layer_node_counts, layer_activiation_functions):\n",
    "            tmp_nodes = list()\n",
    "            for i in range(node_count):\n",
    "                new_node = Node(activiation_function, layer_count + 1, i)\n",
    "                tmp_nodes.append(new_node)\n",
    "            self.layers.append(Layer(layer_count + 1, tmp_nodes, activiation_function, layer_count == len(layer_node_counts) - 1))\n",
    "            layer_count += 1\n",
    "        \n",
    "        # Generate Weights.\n",
    "        for i in range(len(layer_node_counts) - 1):\n",
    "            tmp_weight_list = list()\n",
    "            for from_node in self.layers[i].nodes:  # For all from -> to nodes, make a weight, exclude bias nodes.\n",
    "                for to_node in self.layers[i + 1].nodes:  # Don't connect weight to the next level's bias\n",
    "                    if to_node.node_count == \"bias\":\n",
    "                        continue\n",
    "                    new_weight = Weight(from_node, to_node)\n",
    "                    tmp_weight_list.append(new_weight)\n",
    "                    from_node.weights.append(new_weight)\n",
    "            self.layers[i].set_weights(tmp_weight_list)\n",
    "    \n",
    "    def _forward_propagate(self, x):\n",
    "        \"\"\"\n",
    "        A method that forward propagates.\n",
    "        This will set all values of z and h in all nodes.\n",
    "        Everytime this function is called, this will reset previous z and h value.\n",
    "        \n",
    "        @param x: The x value to forward propgate.\n",
    "        \"\"\"        \n",
    "        self.layers[0].nodes[0].h = x  # Set input as x\n",
    "        \n",
    "        # Before setting new values, clear before z and h.\n",
    "        for layer in self.layers[1:]:  # Start from 2nd layer.\n",
    "            for node in layer.nodes: \n",
    "                if node.node_count == \"bias\":  # If this was bias, keep it.\n",
    "                    continue\n",
    "                else:  # If not, set it 0.\n",
    "                    node.h = 0\n",
    "                    node.z = 0\n",
    "        \n",
    "        for layer in self.layers: # For all layers, forward propagate.\n",
    "            for node in layer.nodes:  # Grab nodes from layers.\n",
    "                if layer.layer_index != 1 and node.node_count != \"bias\":   # If current node was not the input layer or it was not bias, calculate h.\n",
    "                    node.calc_h()\n",
    "                for weight in node.weights:  # Calculate each weight * h value. \n",
    "                    target_node = weight.to_node\n",
    "                    target_node.z += node.h * weight.value\n",
    "                    #print(\"Adding \" + str(node.h * weight.value) + \" to \" + str(target_node))\n",
    "                \n",
    "    def _r_get_chain_rules(self, this_node, indent):\n",
    "        \"\"\"\n",
    "        A method that gets chain rules in recursive way.\n",
    "        This will generate all chain rule values in a DFS way.\n",
    "        \n",
    "        @param this_node: The node that this current recursive function is visiting.\n",
    "        @param indent: For debug usage. Do not use this argument.\n",
    "        \"\"\"\n",
    "        if len(this_node.weights) == 0:\n",
    "            return 1\n",
    "        else:\n",
    "            tmp = 0\n",
    "            for weight in this_node.weights:\n",
    "                tmp += self._r_get_chain_rules(weight.to_node, indent + 1) * weight.value  # Do recursion.\n",
    "            return tmp * this_node.get_derivative_z()\n",
    "    \n",
    "    def _back_propagate(self, x, y, alpha, beta_1, beta_2, epsilon):\n",
    "        \"\"\"\n",
    "        A method that backpropagates.\n",
    "        This will call _forward_propagate internally and then backpropagate with using ADAM as its optimizer.\n",
    "        \n",
    "        @param x: The x value to input.\n",
    "        @param y: The y value as output.\n",
    "        @param alpha: The alpha value for ADAM.\n",
    "        @param beta_1: The \\beta1 value for ADAM.\n",
    "        @param beta_2: The \\beta2 value for ADAM.\n",
    "        @param epsilon: The \\epsilon value for ADAM.\n",
    "        \"\"\"\n",
    "        self._forward_propagate(x)\n",
    "        self.layers[-1].nodes[0].calc_h()\n",
    "                \n",
    "        y_hat = self.layers[-1].nodes[0].z\n",
    "        for layer in self.layers:\n",
    "            for weight in layer.weights:\n",
    "                recursive_value = self._r_get_chain_rules(weight.to_node, 0)\n",
    "                \n",
    "                # ADAM Optimizer\n",
    "                weight.t += 1\n",
    "                gradient = (y_hat - y) * 1 * weight.from_node.h * recursive_value\n",
    "                m = beta_1 * weight.last_m + (1 - beta_1) * gradient\n",
    "                v = beta_2 * weight.last_v + (1 - beta_2) * (gradient ** 2)\n",
    "                weight.last_m = m\n",
    "                weight.last_v = v\n",
    "                m_hat = m / (1 - beta_1 ** weight.t)\n",
    "                v_hat = v / (1 - beta_2 ** weight.t)\n",
    "                weight.value = weight.value - alpha * m_hat * (np.sqrt(v_hat) + epsilon)\n",
    "                \n",
    "    def predict(self, x):\n",
    "        \"\"\"\n",
    "        A function that predicts value from x.\n",
    "        This function will interally call _forward_propagate.\n",
    "        Then will return value of z in the last output node.\n",
    "        \n",
    "        :param x: The x value to predict.\n",
    "        :return: The valut that this model predicted.\n",
    "        \"\"\"\n",
    "        self._forward_propagate(x)\n",
    "        return self.layers[-1].nodes[0].z\n",
    "    \n",
    "    def fit(self, x_data, y_data, epoch, alpha, beta_1, beta_2, epsilon):\n",
    "        \"\"\"\n",
    "        A method that fits our model into the data.\n",
    "        \n",
    "        @param x_data: tuple object that includes x data.\n",
    "        @param y_data: tuple object that includes y data.\n",
    "        @param epoch: Total count of epochs to iterate.\n",
    "        @param alpha: The alpha value for ADAM.\n",
    "        @param beta_1: The \\beta1 value for ADAM.\n",
    "        @param beta_2: The \\beta2 value for ADAM.\n",
    "        @param epsilon: The \\epsilon value for ADAM.\n",
    "        \"\"\"\n",
    "        self.max_y = max(y_data)\n",
    "        self.min_y = min(y_data)\n",
    "        self.mid = (self.max_y + self.min_y) / 2\n",
    "        \n",
    "        for i in range(epoch):\n",
    "            for x, y in zip(x_data, y_data):\n",
    "                self._back_propagate(x, y, alpha, beta_1, beta_2, epsilon)\n",
    "            print(\"Epoch \" + str(i) + \" / \" + str(epoch) + \"  Loss : \" + str(self.get_cost(x_data, y_data)))\n",
    "    \n",
    "    def get_cost(self, x_data, y_data):\n",
    "        \"\"\"\n",
    "        A method that calculates MSE value with given dataset.\n",
    "        \n",
    "        @param x_data: tuple object that includes x data.\n",
    "        @param y_data: tuple object that includes y data. \n",
    "        @return: The MSE value of the model.\n",
    "        \"\"\"\n",
    "        total = 0\n",
    "        for x, y in zip(x_data, y_data):\n",
    "            y_hat = self.predict(x)\n",
    "            total += (y_hat - y) ** 2\n",
    "        return total / 2\n",
    "    \n",
    "    def __repr__(self):\n",
    "        \"\"\"\n",
    "        A __repr__ method for class Network. \n",
    "        \n",
    "        @return: The network information\n",
    "        \"\"\"\n",
    "        ret = \"\"\n",
    "        for layer in self.layers:\n",
    "            ret += str(layer)\n",
    "        return ret"
   ]
  },
  {
   "cell_type": "code",
   "execution_count": 64,
   "id": "81467e40",
   "metadata": {},
   "outputs": [
    {
     "name": "stdout",
     "output_type": "stream",
     "text": [
      "Total Train : 4000 / Total Validation : 1000\n"
     ]
    }
   ],
   "source": [
    "import pandas as pd\n",
    "df = pd.read_csv(\"hw3_data.csv\")\n",
    "\n",
    "y = list(df.y)\n",
    "x = list(df.x)\n",
    "\n",
    "train_x, train_y, validate_x, validate_y = train_validate_split(x, y, 0.8)"
   ]
  },
  {
   "cell_type": "code",
   "execution_count": 65,
   "id": "af345925",
   "metadata": {},
   "outputs": [],
   "source": [
    "activations = ['linear']\n",
    "for i in range(2):\n",
    "    activations.append('sigmoid')\n",
    "for i in range(2):\n",
    "    activations.append('linear')\n",
    "activations.append('linear')"
   ]
  },
  {
   "cell_type": "code",
   "execution_count": 68,
   "id": "74b3d1de",
   "metadata": {},
   "outputs": [],
   "source": [
    "n3 = Network([3 for x in range(6)], activations)"
   ]
  },
  {
   "cell_type": "markdown",
   "id": "667b8cdd",
   "metadata": {},
   "source": [
    "# Potential Bug\n",
    "Please reset Network. This is due to bad initial weights."
   ]
  },
  {
   "cell_type": "code",
   "execution_count": 69,
   "id": "30f49c44",
   "metadata": {
    "scrolled": true
   },
   "outputs": [
    {
     "name": "stdout",
     "output_type": "stream",
     "text": [
      "Epoch 0 / 50  Loss : 5.597956413566739e+02\n",
      "Epoch 1 / 50  Loss : 5.245968483971917e+02\n",
      "Epoch 2 / 50  Loss : 5.0430003648686966e+02\n",
      "Epoch 3 / 50  Loss : 4.9114452858996947e+02\n",
      "Epoch 4 / 50  Loss : 4.8196146242707016e+02\n",
      "Epoch 5 / 50  Loss : 4.7518661597450256e+02\n",
      "Epoch 6 / 50  Loss : 4.699740584358153e+02\n",
      "Epoch 7 / 50  Loss : 4.6582189807318014e+02\n",
      "Epoch 8 / 50  Loss : 4.6241048548053976e+02\n",
      "Epoch 9 / 50  Loss : 4.5952466592912555e+02\n",
      "Epoch 10 / 50  Loss : 4.570126659144871e+02\n",
      "Epoch 11 / 50  Loss : 4.5476253981923475e+02\n",
      "Epoch 12 / 50  Loss : 4.5268774564582156e+02\n",
      "Epoch 13 / 50  Loss : 4.507177999842092e+02\n",
      "Epoch 14 / 50  Loss : 4.4879192027459084e+02\n",
      "Epoch 15 / 50  Loss : 4.468542782780576e+02\n",
      "Epoch 16 / 50  Loss : 4.4485196029518244e+02\n",
      "Epoch 17 / 50  Loss : 4.427342787892077e+02\n",
      "Epoch 18 / 50  Loss : 4.4045266821344893e+02\n",
      "Epoch 19 / 50  Loss : 4.379657173936271e+02\n",
      "Epoch 20 / 50  Loss : 4.352493275718912e+02\n",
      "Epoch 21 / 50  Loss : 4.323134111432437e+02\n",
      "Epoch 22 / 50  Loss : 4.29222524090287e+02\n",
      "Epoch 23 / 50  Loss : 4.2609898213565407e+02\n",
      "Epoch 24 / 50  Loss : 4.2303599849924905e+02\n",
      "Epoch 25 / 50  Loss : 4.198544400725686e+02\n",
      "Epoch 26 / 50  Loss : 4.161173510324324e+02\n",
      "Epoch 27 / 50  Loss : 4.1186861402182205e+02\n",
      "Epoch 28 / 50  Loss : 4.080869382772971e+02\n",
      "Epoch 29 / 50  Loss : 4.063746920931958e+02\n",
      "Epoch 30 / 50  Loss : 4.0799809029059594e+02\n",
      "Epoch 31 / 50  Loss : 4.1283543336512446e+02\n",
      "Epoch 32 / 50  Loss : 4.1956737870057435e+02\n",
      "Epoch 33 / 50  Loss : 4.267237096477576e+02\n",
      "Epoch 34 / 50  Loss : 4.3305142055703897e+02\n",
      "Epoch 35 / 50  Loss : 4.379702790904233e+02\n",
      "Epoch 36 / 50  Loss : 4.4125745685513215e+02\n",
      "Epoch 37 / 50  Loss : 4.4275603435687196e+02\n",
      "Epoch 38 / 50  Loss : 4.4276421365670484e+02\n",
      "Epoch 39 / 50  Loss : 4.4152211872115066e+02\n",
      "Epoch 40 / 50  Loss : 4.396712680883353e+02\n",
      "Epoch 41 / 50  Loss : 4.377786612911328e+02\n",
      "Epoch 42 / 50  Loss : 4.367682620025346e+02\n",
      "Epoch 43 / 50  Loss : 4.358768390985378e+02\n",
      "Epoch 44 / 50  Loss : 4.3552137838067904e+02\n",
      "Epoch 45 / 50  Loss : 4.349458084868109e+02\n",
      "Epoch 46 / 50  Loss : 4.342200498722577e+02\n",
      "Epoch 47 / 50  Loss : 4.3397776069617885e+02\n",
      "Epoch 48 / 50  Loss : 4.342811276515725e+02\n",
      "Epoch 49 / 50  Loss : 4.3522823921158175e+02\n"
     ]
    }
   ],
   "source": [
    "n3.fit(train_x, train_y, 50, 0.001, 0.9, 0.999, 10 ** -8)"
   ]
  },
  {
   "cell_type": "code",
   "execution_count": 71,
   "id": "b5ddc803",
   "metadata": {
    "scrolled": true
   },
   "outputs": [
    {
     "name": "stderr",
     "output_type": "stream",
     "text": [
      "The PostScript backend does not support transparency; partially transparent artists will be rendered opaque.\n"
     ]
    },
    {
     "data": {
      "image/png": "[encoded data removed]",
      "text/plain": [
       "<Figure size 432x288 with 1 Axes>"
      ]
     },
     "metadata": {
      "needs_background": "light"
     },
     "output_type": "display_data"
    }
   ],
   "source": [
    "predicted = list()\n",
    "for i in x:\n",
    "    predicted.append(n3.predict(i))\n",
    "    \n",
    "import matplotlib.pyplot as plt\n",
    "\n",
    "plt.scatter(df.x, df.y, label='real', s=10)\n",
    "plt.scatter(df.x, predicted, label='predicted', s=10)\n",
    "plt.title(\"Predicted and Real Data\")\n",
    "plt.legend()\n",
    "plt.xlabel(\"X\")\n",
    "plt.ylabel(\"Y\")\n",
    "plt.savefig('multilayer_adam_new_1.eps')"
   ]
  },
  {
   "cell_type": "markdown",
   "id": "ed66fce3",
   "metadata": {},
   "source": [
    "# Train 50 more epochs with smaller \\alpha"
   ]
  },
  {
   "cell_type": "code",
   "execution_count": 73,
   "id": "780af965",
   "metadata": {},
   "outputs": [
    {
     "name": "stdout",
     "output_type": "stream",
     "text": [
      "Epoch 0 / 50  Loss : 3.2692133869778456e+02\n",
      "Epoch 1 / 50  Loss : 3.2493667188037364e+02\n",
      "Epoch 2 / 50  Loss : 3.230932300241743e+02\n",
      "Epoch 3 / 50  Loss : 3.2129321931574214e+02\n",
      "Epoch 4 / 50  Loss : 3.19533530170975e+02\n",
      "Epoch 5 / 50  Loss : 3.1781294565975315e+02\n",
      "Epoch 6 / 50  Loss : 3.1612876464171154e+02\n",
      "Epoch 7 / 50  Loss : 3.1447880654293556e+02\n",
      "Epoch 8 / 50  Loss : 3.1286255551799064e+02\n",
      "Epoch 9 / 50  Loss : 3.112814552096844e+02\n",
      "Epoch 10 / 50  Loss : 3.097386871985477e+02\n",
      "Epoch 11 / 50  Loss : 3.0823863774256046e+02\n",
      "Epoch 12 / 50  Loss : 3.0678618324901834e+02\n",
      "Epoch 13 / 50  Loss : 3.053858973850989e+02\n",
      "Epoch 14 / 50  Loss : 3.040412705239856e+02\n",
      "Epoch 15 / 50  Loss : 3.0275402081535907e+02\n",
      "Epoch 16 / 50  Loss : 3.015235617836502e+02\n",
      "Epoch 17 / 50  Loss : 3.0034667464701454e+02\n",
      "Epoch 18 / 50  Loss : 2.9921741607566025e+02\n",
      "Epoch 19 / 50  Loss : 2.981272747454539e+02\n",
      "Epoch 20 / 50  Loss : 2.970655726643872e+02\n",
      "Epoch 21 / 50  Loss : 2.960200892050907e+02\n",
      "Epoch 22 / 50  Loss : 2.9497786669219073e+02\n",
      "Epoch 23 / 50  Loss : 2.93926136878938e+02\n",
      "Epoch 24 / 50  Loss : 2.928532896356291e+02\n",
      "Epoch 25 / 50  Loss : 2.9174979178531515e+02\n",
      "Epoch 26 / 50  Loss : 2.9060895898381835e+02\n",
      "Epoch 27 / 50  Loss : 2.894274902310508e+02\n",
      "Epoch 28 / 50  Loss : 2.8820569493135383e+02\n",
      "Epoch 29 / 50  Loss : 2.8694737580426573e+02\n",
      "Epoch 30 / 50  Loss : 2.856593737057035e+02\n",
      "Epoch 31 / 50  Loss : 2.843508259782748e+02\n",
      "Epoch 32 / 50  Loss : 2.8303222998242427e+02\n",
      "Epoch 33 / 50  Loss : 2.817144298337531e+02\n",
      "Epoch 34 / 50  Loss : 2.804076513674858e+02\n",
      "Epoch 35 / 50  Loss : 2.791206964157666e+02\n",
      "Epoch 36 / 50  Loss : 2.7786037583967834e+02\n",
      "Epoch 37 / 50  Loss : 2.766312185717994e+02\n",
      "Epoch 38 / 50  Loss : 2.754354502947945e+02\n",
      "Epoch 39 / 50  Loss : 2.742731988464754e+02\n",
      "Epoch 40 / 50  Loss : 2.7314285987359585e+02\n",
      "Epoch 41 / 50  Loss : 2.720415477750588e+02\n",
      "Epoch 42 / 50  Loss : 2.7096556208614237e+02\n",
      "Epoch 43 / 50  Loss : 2.6991081415343376e+02\n",
      "Epoch 44 / 50  Loss : 2.6887317824636204e+02\n",
      "Epoch 45 / 50  Loss : 2.67848750572319e+02\n",
      "Epoch 46 / 50  Loss : 2.6683401575274024e+02\n",
      "Epoch 47 / 50  Loss : 2.658259315411701e+02\n",
      "Epoch 48 / 50  Loss : 2.648219487165169e+02\n",
      "Epoch 49 / 50  Loss : 2.638199849370086e+02\n"
     ]
    }
   ],
   "source": [
    "n3.fit(train_x, train_y, 50, 0.0001, 0.9, 0.999, 10 ** -8) # Extra 50 more epochs with smaller alpha value."
   ]
  },
  {
   "cell_type": "code",
   "execution_count": 75,
   "id": "de6f507c",
   "metadata": {},
   "outputs": [
    {
     "name": "stderr",
     "output_type": "stream",
     "text": [
      "The PostScript backend does not support transparency; partially transparent artists will be rendered opaque.\n"
     ]
    },
    {
     "data": {
      "image/png": "[encoded data removed]",
      "text/plain": [
       "<Figure size 432x288 with 1 Axes>"
      ]
     },
     "metadata": {
      "needs_background": "light"
     },
     "output_type": "display_data"
    }
   ],
   "source": [
    "predicted = list()\n",
    "for i in x:\n",
    "    predicted.append(n3.predict(i))\n",
    "    \n",
    "import matplotlib.pyplot as plt\n",
    "\n",
    "plt.scatter(df.x, df.y, label='real', s=10)\n",
    "plt.scatter(df.x, predicted, label='predicted', s=10)\n",
    "plt.title(\"Predicted and Real Data\")\n",
    "plt.legend()\n",
    "plt.xlabel(\"X\")\n",
    "plt.ylabel(\"Y\")\n",
    "plt.savefig('multilayer_adam_new_1.eps')"
   ]
  },
  {
   "cell_type": "markdown",
   "id": "db7b6e18",
   "metadata": {},
   "source": [
    "# 50 more epochs! with smaller \\alpha"
   ]
  },
  {
   "cell_type": "code",
   "execution_count": 79,
   "id": "9195c13e",
   "metadata": {},
   "outputs": [
    {
     "name": "stdout",
     "output_type": "stream",
     "text": [
      "Epoch 0 / 50  Loss : 2.6004048964485395e+02\n",
      "Epoch 1 / 50  Loss : 2.590432949932033e+02\n",
      "Epoch 2 / 50  Loss : 2.58046000122269e+02\n",
      "Epoch 3 / 50  Loss : 2.570438711483063e+02\n",
      "Epoch 4 / 50  Loss : 2.5603616562602724e+02\n",
      "Epoch 5 / 50  Loss : 2.550223961358891e+02\n",
      "Epoch 6 / 50  Loss : 2.5400208152436e+02\n",
      "Epoch 7 / 50  Loss : 2.529747299203423e+02\n",
      "Epoch 8 / 50  Loss : 2.5193983929376424e+02\n",
      "Epoch 9 / 50  Loss : 2.5089689997082965e+02\n",
      "Epoch 10 / 50  Loss : 2.4984539752559414e+02\n",
      "Epoch 11 / 50  Loss : 2.4878481563633767e+02\n",
      "Epoch 12 / 50  Loss : 2.4771463868552993e+02\n",
      "Epoch 13 / 50  Loss : 2.46634353974574e+02\n",
      "Epoch 14 / 50  Loss : 2.4554345348870294e+02\n",
      "Epoch 15 / 50  Loss : 2.4444143519257503e+02\n",
      "Epoch 16 / 50  Loss : 2.4332780386705568e+02\n",
      "Epoch 17 / 50  Loss : 2.4220207151645124e+02\n",
      "Epoch 18 / 50  Loss : 2.4106375738558017e+02\n",
      "Epoch 19 / 50  Loss : 2.3991238763054764e+02\n",
      "Epoch 20 / 50  Loss : 2.3874749468753777e+02\n",
      "Epoch 21 / 50  Loss : 2.3756861638220593e+02\n",
      "Epoch 22 / 50  Loss : 2.3637529481931702e+02\n",
      "Epoch 23 / 50  Loss : 2.3516707508915044e+02\n",
      "Epoch 24 / 50  Loss : 2.3394350382438466e+02\n",
      "Epoch 25 / 50  Loss : 2.3270412763911355e+02\n",
      "Epoch 26 / 50  Loss : 2.3144849148076906e+02\n",
      "Epoch 27 / 50  Loss : 2.3017613692576523e+02\n",
      "Epoch 28 / 50  Loss : 2.288866004512118e+02\n",
      "Epoch 29 / 50  Loss : 2.2757941171752802e+02\n",
      "Epoch 30 / 50  Loss : 2.2625409190035737e+02\n",
      "Epoch 31 / 50  Loss : 2.2491015211455678e+02\n",
      "Epoch 32 / 50  Loss : 2.2354709197784334e+02\n",
      "Epoch 33 / 50  Loss : 2.221643983666377e+02\n",
      "Epoch 34 / 50  Loss : 2.207615444212624e+02\n",
      "Epoch 35 / 50  Loss : 2.1933798886135406e+02\n",
      "Epoch 36 / 50  Loss : 2.1789317567470817e+02\n",
      "Epoch 37 / 50  Loss : 2.1642653424308554e+02\n",
      "Epoch 38 / 50  Loss : 2.149374799663101e+02\n",
      "Epoch 39 / 50  Loss : 2.1342541544069425e+02\n",
      "Epoch 40 / 50  Loss : 2.1188973223920334e+02\n",
      "Epoch 41 / 50  Loss : 2.1032981332838355e+02\n",
      "Epoch 42 / 50  Loss : 2.0874503614118336e+02\n",
      "Epoch 43 / 50  Loss : 2.0713477630554715e+02\n",
      "Epoch 44 / 50  Loss : 2.0549841200652457e+02\n",
      "Epoch 45 / 50  Loss : 2.038353289358604e+02\n",
      "Epoch 46 / 50  Loss : 2.021449257582743e+02\n",
      "Epoch 47 / 50  Loss : 2.0042661999987462e+02\n",
      "Epoch 48 / 50  Loss : 1.9867985424245472e+02\n",
      "Epoch 49 / 50  Loss : 1.9690410248974192e+02\n"
     ]
    }
   ],
   "source": [
    "n3.fit(train_x, train_y, 50, 0.0001, 0.9, 0.999, 10 ** -8) # Extra 50 more epochs with smaller alpha value."
   ]
  },
  {
   "cell_type": "code",
   "execution_count": 80,
   "id": "9d73a7f1",
   "metadata": {},
   "outputs": [
    {
     "name": "stderr",
     "output_type": "stream",
     "text": [
      "The PostScript backend does not support transparency; partially transparent artists will be rendered opaque.\n"
     ]
    },
    {
     "data": {
      "image/png": "[encoded data removed]",
      "text/plain": [
       "<Figure size 432x288 with 1 Axes>"
      ]
     },
     "metadata": {
      "needs_background": "light"
     },
     "output_type": "display_data"
    }
   ],
   "source": [
    "predicted = list()\n",
    "for i in x:\n",
    "    predicted.append(n3.predict(i))\n",
    "    \n",
    "import matplotlib.pyplot as plt\n",
    "\n",
    "plt.scatter(df.x, df.y, label='real', s=10)\n",
    "plt.scatter(df.x, predicted, label='predicted', s=10)\n",
    "plt.title(\"Predicted and Real Data\")\n",
    "plt.legend()\n",
    "plt.xlabel(\"X\")\n",
    "plt.ylabel(\"Y\")\n",
    "plt.savefig('multilayer_adam_new_1.eps')"
   ]
  },
  {
   "cell_type": "markdown",
   "id": "198419a9",
   "metadata": {},
   "source": [
    "# 50 more epochs, I will go take a nap"
   ]
  },
  {
   "cell_type": "code",
   "execution_count": 81,
   "id": "d0a7eaf4",
   "metadata": {},
   "outputs": [
    {
     "name": "stdout",
     "output_type": "stream",
     "text": [
      "Epoch 0 / 50  Loss : 1.9509887655936552e+02\n",
      "Epoch 1 / 50  Loss : 1.932637323485901e+02\n",
      "Epoch 2 / 50  Loss : 1.9139827582374417e+02\n",
      "Epoch 3 / 50  Loss : 1.8950216859286724e+02\n",
      "Epoch 4 / 50  Loss : 1.8757513293842544e+02\n",
      "Epoch 5 / 50  Loss : 1.856169562108546e+02\n",
      "Epoch 6 / 50  Loss : 1.836274945130681e+02\n",
      "Epoch 7 / 50  Loss : 1.8160667563891087e+02\n",
      "Epoch 8 / 50  Loss : 1.795545012627466e+02\n",
      "Epoch 9 / 50  Loss : 1.774710484109344e+02\n",
      "Epoch 10 / 50  Loss : 1.7535647027661025e+02\n",
      "Epoch 11 / 50  Loss : 1.732109964655264e+02\n",
      "Epoch 12 / 50  Loss : 1.7103493278116974e+02\n",
      "Epoch 13 / 50  Loss : 1.6882866067151315e+02\n",
      "Epoch 14 / 50  Loss : 1.6659263646726626e+02\n",
      "Epoch 15 / 50  Loss : 1.6432739054260543e+02\n",
      "Epoch 16 / 50  Loss : 1.6203352652497284e+02\n",
      "Epoch 17 / 50  Loss : 1.5971172067125005e+02\n",
      "Epoch 18 / 50  Loss : 1.5736272151466562e+02\n",
      "Epoch 19 / 50  Loss : 1.549873498709088e+02\n",
      "Epoch 20 / 50  Loss : 1.5258649927400836e+02\n",
      "Epoch 21 / 50  Loss : 1.5016113689292104e+02\n",
      "Epoch 22 / 50  Loss : 1.4771230495904697e+02\n",
      "Epoch 23 / 50  Loss : 1.4524112271266054e+02\n",
      "Epoch 24 / 50  Loss : 1.4274878885284267e+02\n",
      "Epoch 25 / 50  Loss : 1.4023658445045663e+02\n",
      "Epoch 26 / 50  Loss : 1.3770587625691468e+02\n",
      "Epoch 27 / 50  Loss : 1.3515812031299149e+02\n",
      "Epoch 28 / 50  Loss : 1.325948657319092e+02\n",
      "Epoch 29 / 50  Loss : 1.300177584999349e+02\n",
      "Epoch 30 / 50  Loss : 1.2742854510675167e+02\n",
      "Epoch 31 / 50  Loss : 1.2482907578827214e+02\n",
      "Epoch 32 / 50  Loss : 1.2222130713817221e+02\n",
      "Epoch 33 / 50  Loss : 1.1960730382327283e+02\n",
      "Epoch 34 / 50  Loss : 1.1698923912452948e+02\n",
      "Epoch 35 / 50  Loss : 1.1436939402190579e+02\n",
      "Epoch 36 / 50  Loss : 1.1175015455046903e+02\n",
      "Epoch 37 / 50  Loss : 1.0913400717806522e+02\n",
      "Epoch 38 / 50  Loss : 1.0652353199346413e+02\n",
      "Epoch 39 / 50  Loss : 1.0392139354803753e+02\n",
      "Epoch 40 / 50  Loss : 1.0133032926317578e+02\n",
      "Epoch 41 / 50  Loss : 9.875313539766047e+01\n",
      "Epoch 42 / 50  Loss : 9.619265066106045e+01\n",
      "Epoch 43 / 50  Loss : 9.365173765630001e+01\n",
      "Epoch 44 / 50  Loss : 9.113326243180636e+01\n",
      "Epoch 45 / 50  Loss : 8.864007251498076e+01\n",
      "Epoch 46 / 50  Loss : 8.617497387849642e+01\n",
      "Epoch 47 / 50  Loss : 8.374070735333287e+01\n",
      "Epoch 48 / 50  Loss : 8.133992504335826e+01\n",
      "Epoch 49 / 50  Loss : 7.897516731240505e+01\n"
     ]
    }
   ],
   "source": [
    "n3.fit(train_x, train_y, 50, 0.0001, 0.9, 0.999, 10 ** -8) # Extra 50 more epochs with smaller alpha value."
   ]
  },
  {
   "cell_type": "code",
   "execution_count": 83,
   "id": "02f6f137",
   "metadata": {},
   "outputs": [
    {
     "name": "stderr",
     "output_type": "stream",
     "text": [
      "The PostScript backend does not support transparency; partially transparent artists will be rendered opaque.\n"
     ]
    },
    {
     "data": {
      "image/png": "[encoded data removed]",
      "text/plain": [
       "<Figure size 432x288 with 1 Axes>"
      ]
     },
     "metadata": {
      "needs_background": "light"
     },
     "output_type": "display_data"
    }
   ],
   "source": [
    "predicted = list()\n",
    "for i in x:\n",
    "    predicted.append(n3.predict(i))\n",
    "    \n",
    "import matplotlib.pyplot as plt\n",
    "\n",
    "plt.scatter(df.x, df.y, label='real', s=10)\n",
    "plt.scatter(df.x, predicted, label='predicted', s=10)\n",
    "plt.title(\"Predicted and Real Data\")\n",
    "plt.legend()\n",
    "plt.xlabel(\"X\")\n",
    "plt.ylabel(\"Y\")\n",
    "plt.savefig('multilayer_adam_new_2.eps')"
   ]
  },
  {
   "cell_type": "markdown",
   "id": "2aabe865",
   "metadata": {},
   "source": [
    "# Let's go for another round, I want this model to fit perfect"
   ]
  },
  {
   "cell_type": "code",
   "execution_count": 84,
   "id": "90e156a4",
   "metadata": {},
   "outputs": [
    {
     "name": "stdout",
     "output_type": "stream",
     "text": [
      "Epoch 0 / 50  Loss : 7.6648840905277e+01\n",
      "Epoch 1 / 50  Loss : 7.436319872957921e+01\n",
      "Epoch 2 / 50  Loss : 7.212032176843492e+01\n",
      "Epoch 3 / 50  Loss : 6.992210351914241e+01\n",
      "Epoch 4 / 50  Loss : 6.777023726486259e+01\n",
      "Epoch 5 / 50  Loss : 6.566620639110653e+01\n",
      "Epoch 6 / 50  Loss : 6.361127786163878e+01\n",
      "Epoch 7 / 50  Loss : 6.1606498874313004e+01\n",
      "Epoch 8 / 50  Loss : 5.9652696630400364e+01\n",
      "Epoch 9 / 50  Loss : 5.775048107398348e+01\n",
      "Epoch 10 / 50  Loss : 5.5900250392723585e+01\n",
      "Epoch 11 / 50  Loss : 5.410219901871451e+01\n",
      "Epoch 12 / 50  Loss : 5.23563278280623e+01\n",
      "Epoch 13 / 50  Loss : 5.066245620974713e+01\n",
      "Epoch 14 / 50  Loss : 4.9020235657239404e+01\n",
      "Epoch 15 / 50  Loss : 4.742916452931273e+01\n",
      "Epoch 16 / 50  Loss : 4.5888603628180874e+01\n",
      "Epoch 17 / 50  Loss : 4.4397792252727044e+01\n",
      "Epoch 18 / 50  Loss : 4.29558644010943e+01\n",
      "Epoch 19 / 50  Loss : 4.156186481954339e+01\n",
      "Epoch 20 / 50  Loss : 4.021476462246301e+01\n",
      "Epoch 21 / 50  Loss : 3.891347624087734e+01\n",
      "Epoch 22 / 50  Loss : 3.765686749278693e+01\n",
      "Epoch 23 / 50  Loss : 3.644377460716586e+01\n",
      "Epoch 24 / 50  Loss : 3.527301407316995e+01\n",
      "Epoch 25 / 50  Loss : 3.414339322578265e+01\n",
      "Epoch 26 / 50  Loss : 3.305371951738842e+01\n",
      "Epoch 27 / 50  Loss : 3.200280846047135e+01\n",
      "Epoch 28 / 50  Loss : 3.0989490258641727e+01\n",
      "Epoch 29 / 50  Loss : 3.0012615170855096e+01\n",
      "Epoch 30 / 50  Loss : 2.9071057676521388e+01\n",
      "Epoch 31 / 50  Loss : 2.8163719527149745e+01\n",
      "Epoch 32 / 50  Loss : 2.7289531783505897e+01\n",
      "Epoch 33 / 50  Loss : 2.644745594636561e+01\n",
      "Epoch 34 / 50  Loss : 2.5636484294607953e+01\n",
      "Epoch 35 / 50  Loss : 2.485563954703545e+01\n",
      "Epoch 36 / 50  Loss : 2.4103973964788516e+01\n",
      "Epoch 37 / 50  Loss : 2.338056800980305e+01\n",
      "Epoch 38 / 50  Loss : 2.268452867190131e+01\n",
      "Epoch 39 / 50  Loss : 2.2014987572756787e+01\n",
      "Epoch 40 / 50  Loss : 2.1371098949321492e+01\n",
      "Epoch 41 / 50  Loss : 2.0752037611965186e+01\n",
      "Epoch 42 / 50  Loss : 2.01569969637323e+01\n",
      "Epoch 43 / 50  Loss : 1.958518715637776e+01\n",
      "Epoch 44 / 50  Loss : 1.903583344660229e+01\n",
      "Epoch 45 / 50  Loss : 1.8508174802143042e+01\n",
      "Epoch 46 / 50  Loss : 1.800146279267702e+01\n",
      "Epoch 47 / 50  Loss : 1.751496078537066e+01\n",
      "Epoch 48 / 50  Loss : 1.7047943449976934e+01\n",
      "Epoch 49 / 50  Loss : 1.6599696564450873e+01\n"
     ]
    }
   ],
   "source": [
    "n3.fit(train_x, train_y, 50, 0.0001, 0.9, 0.999, 10 ** -8) # Extra 50 more epochs with smaller alpha value."
   ]
  },
  {
   "cell_type": "code",
   "execution_count": 86,
   "id": "68ef960f",
   "metadata": {},
   "outputs": [
    {
     "name": "stderr",
     "output_type": "stream",
     "text": [
      "The PostScript backend does not support transparency; partially transparent artists will be rendered opaque.\n"
     ]
    },
    {
     "data": {
      "image/png": "[encoded data removed]",
      "text/plain": [
       "<Figure size 432x288 with 1 Axes>"
      ]
     },
     "metadata": {
      "needs_background": "light"
     },
     "output_type": "display_data"
    }
   ],
   "source": [
    "predicted = list()\n",
    "for i in x:\n",
    "    predicted.append(n3.predict(i))\n",
    "    \n",
    "import matplotlib.pyplot as plt\n",
    "\n",
    "plt.scatter(df.x, df.y, label='real', s=10)\n",
    "plt.scatter(df.x, predicted, label='predicted', s=10)\n",
    "plt.title(\"Predicted and Real Data\")\n",
    "plt.legend()\n",
    "plt.xlabel(\"X\")\n",
    "plt.ylabel(\"Y\")\n",
    "plt.savefig('multilayer_adam_new_3.eps')"
   ]
  },
  {
   "cell_type": "markdown",
   "id": "bb985646",
   "metadata": {},
   "source": [
    "# Let's go for another round, almost there"
   ]
  },
  {
   "cell_type": "code",
   "execution_count": 88,
   "id": "0510dbd4",
   "metadata": {},
   "outputs": [
    {
     "name": "stdout",
     "output_type": "stream",
     "text": [
      "Epoch 0 / 50  Loss : 1.616951709962574e+01\n",
      "Epoch 1 / 50  Loss : 1.5756713551220358e+01\n",
      "Epoch 2 / 50  Loss : 1.536060647958829e+01\n",
      "Epoch 3 / 50  Loss : 1.4980529212474318e+01\n",
      "Epoch 4 / 50  Loss : 1.4615828663526488e+01\n",
      "Epoch 5 / 50  Loss : 1.4265866219287691e+01\n",
      "Epoch 6 / 50  Loss : 1.3930018649570496e+01\n",
      "Epoch 7 / 50  Loss : 1.3607679000086577e+01\n",
      "Epoch 8 / 50  Loss : 1.329825743149513e+01\n",
      "Epoch 9 / 50  Loss : 1.300118197524815e+01\n",
      "Epoch 10 / 50  Loss : 1.271589918319886e+01\n",
      "Epoch 11 / 50  Loss : 1.2441874654641232e+01\n",
      "Epoch 12 / 50  Loss : 1.2178593430780557e+01\n",
      "Epoch 13 / 50  Loss : 1.1925560252489971e+01\n",
      "Epoch 14 / 50  Loss : 1.168229968227524e+01\n",
      "Epoch 15 / 50  Loss : 1.144835609561761e+01\n",
      "Epoch 16 / 50  Loss : 1.1223293550228004e+01\n",
      "Epoch 17 / 50  Loss : 1.1006695544207691e+01\n",
      "Epoch 18 / 50  Loss : 1.0798164675774304e+01\n",
      "Epoch 19 / 50  Loss : 1.0597322218102047e+01\n",
      "Epoch 20 / 50  Loss : 1.0403807623097924e+01\n",
      "Epoch 21 / 50  Loss : 1.0217277967690265e+01\n",
      "Epoch 22 / 50  Loss : 1.0037407355523333e+01\n",
      "Epoch 23 / 50  Loss : 9.863886286004552e+00\n",
      "Epoch 24 / 50  Loss : 9.69642100148903e+00\n",
      "Epoch 25 / 50  Loss : 9.534732822124294e+00\n",
      "Epoch 26 / 50  Loss : 9.37855747657208e+00\n",
      "Epoch 27 / 50  Loss : 9.227644435553392e+00\n",
      "Epoch 28 / 50  Loss : 9.081756253937936e+00\n",
      "Epoch 29 / 50  Loss : 8.940667925996824e+00\n",
      "Epoch 30 / 50  Loss : 8.80416625740481e+00\n",
      "Epoch 31 / 50  Loss : 8.672049256721845e+00\n",
      "Epoch 32 / 50  Loss : 8.54412554830391e+00\n",
      "Epoch 33 / 50  Loss : 8.42021380795394e+00\n",
      "Epoch 34 / 50  Loss : 8.300142222101275e+00\n",
      "Epoch 35 / 50  Loss : 8.183747970851838e+00\n",
      "Epoch 36 / 50  Loss : 8.070876734927262e+00\n",
      "Epoch 37 / 50  Loss : 7.961382226230109e+00\n",
      "Epoch 38 / 50  Loss : 7.855125741586976e+00\n",
      "Epoch 39 / 50  Loss : 7.751975739060034e+00\n",
      "Epoch 40 / 50  Loss : 7.651807436127572e+00\n",
      "Epoch 41 / 50  Loss : 7.554502428954553e+00\n",
      "Epoch 42 / 50  Loss : 7.459948331947252e+00\n",
      "Epoch 43 / 50  Loss : 7.368038436745533e+00\n",
      "Epoch 44 / 50  Loss : 7.2786713898237645e+00\n",
      "Epoch 45 / 50  Loss : 7.1917508878642415e+00\n",
      "Epoch 46 / 50  Loss : 7.107185390074148e+00\n",
      "Epoch 47 / 50  Loss : 7.024887846668358e+00\n",
      "Epoch 48 / 50  Loss : 6.94477544271544e+00\n",
      "Epoch 49 / 50  Loss : 6.86676935661672e+00\n"
     ]
    }
   ],
   "source": [
    "n3.fit(train_x, train_y, 50, 0.0001, 0.9, 0.999, 10 ** -8) # Extra 50 more epochs with smaller alpha value."
   ]
  },
  {
   "cell_type": "code",
   "execution_count": 89,
   "id": "fc4866de",
   "metadata": {},
   "outputs": [
    {
     "name": "stderr",
     "output_type": "stream",
     "text": [
      "The PostScript backend does not support transparency; partially transparent artists will be rendered opaque.\n"
     ]
    },
    {
     "data": {
      "image/png": "[encoded data removed]",
      "text/plain": [
       "<Figure size 432x288 with 1 Axes>"
      ]
     },
     "metadata": {
      "needs_background": "light"
     },
     "output_type": "display_data"
    }
   ],
   "source": [
    "predicted = list()\n",
    "for i in x:\n",
    "    predicted.append(n3.predict(i))\n",
    "    \n",
    "import matplotlib.pyplot as plt\n",
    "\n",
    "plt.scatter(df.x, df.y, label='real', s=10)\n",
    "plt.scatter(df.x, predicted, label='predicted', s=10)\n",
    "plt.title(\"Predicted and Real Data\")\n",
    "plt.legend()\n",
    "plt.xlabel(\"X\")\n",
    "plt.ylabel(\"Y\")\n",
    "plt.savefig('multilayer_adam_new_4.eps')"
   ]
  },
  {
   "cell_type": "markdown",
   "id": "f67b14fc",
   "metadata": {},
   "source": [
    "# Do one more 50 epochs!"
   ]
  },
  {
   "cell_type": "code",
   "execution_count": 90,
   "id": "04053289",
   "metadata": {},
   "outputs": [
    {
     "name": "stdout",
     "output_type": "stream",
     "text": [
      "Epoch 0 / 50  Loss : 6.79079453247965e+00\n",
      "Epoch 1 / 50  Loss : 6.716779465695645e+00\n",
      "Epoch 2 / 50  Loss : 6.64465600103766e+00\n",
      "Epoch 3 / 50  Loss : 6.574359142644511e+00\n",
      "Epoch 4 / 50  Loss : 6.5058268752561625e+00\n",
      "Epoch 5 / 50  Loss : 6.438999996105672e+00\n",
      "Epoch 6 / 50  Loss : 6.373821956903622e+00\n",
      "Epoch 7 / 50  Loss : 6.310238715346695e+00\n",
      "Epoch 8 / 50  Loss : 6.248198595635038e+00\n",
      "Epoch 9 / 50  Loss : 6.18765215748789e+00\n",
      "Epoch 10 / 50  Loss : 6.1285520731721705e+00\n",
      "Epoch 11 / 50  Loss : 6.070853012082507e+00\n",
      "Epoch 12 / 50  Loss : 6.014511532427338e+00\n",
      "Epoch 13 / 50  Loss : 5.959485979600809e+00\n",
      "Epoch 14 / 50  Loss : 5.9057363908404605e+00\n",
      "Epoch 15 / 50  Loss : 5.853224405782349e+00\n",
      "Epoch 16 / 50  Loss : 5.801913182551862e+00\n",
      "Epoch 17 / 50  Loss : 5.751767319048714e+00\n",
      "Epoch 18 / 50  Loss : 5.702752779093988e+00\n",
      "Epoch 19 / 50  Loss : 5.654836823131015e+00\n",
      "Epoch 20 / 50  Loss : 5.607987943194136e+00\n",
      "Epoch 21 / 50  Loss : 5.562175801853731e+00\n",
      "Epoch 22 / 50  Loss : 5.517371174896562e+00\n",
      "Epoch 23 / 50  Loss : 5.473545897485776e+00\n",
      "Epoch 24 / 50  Loss : 5.43067281356878e+00\n",
      "Epoch 25 / 50  Loss : 5.388725728325969e+00\n",
      "Epoch 26 / 50  Loss : 5.347679363450058e+00\n",
      "Epoch 27 / 50  Loss : 5.307509315073338e+00\n",
      "Epoch 28 / 50  Loss : 5.26819201415841e+00\n",
      "Epoch 29 / 50  Loss : 5.229704689193737e+00\n",
      "Epoch 30 / 50  Loss : 5.192025331033648e+00\n",
      "Epoch 31 / 50  Loss : 5.1551326597441625e+00\n",
      "Epoch 32 / 50  Loss : 5.1190060933180845e+00\n",
      "Epoch 33 / 50  Loss : 5.083625718128447e+00\n",
      "Epoch 34 / 50  Loss : 5.048972261016828e+00\n",
      "Epoch 35 / 50  Loss : 5.015027062894751e+00\n",
      "Epoch 36 / 50  Loss : 4.981772053766832e+00\n",
      "Epoch 37 / 50  Loss : 4.949189729077843e+00\n",
      "Epoch 38 / 50  Loss : 4.917263127299488e+00\n",
      "Epoch 39 / 50  Loss : 4.885975808669636e+00\n",
      "Epoch 40 / 50  Loss : 4.855311835024825e+00\n",
      "Epoch 41 / 50  Loss : 4.825255750632086e+00\n",
      "Epoch 42 / 50  Loss : 4.795792563985038e+00\n",
      "Epoch 43 / 50  Loss : 4.766907730475853e+00\n",
      "Epoch 44 / 50  Loss : 4.738587135910663e+00\n",
      "Epoch 45 / 50  Loss : 4.710817080803276e+00\n",
      "Epoch 46 / 50  Loss : 4.683584265405123e+00\n",
      "Epoch 47 / 50  Loss : 4.656875775424694e+00\n",
      "Epoch 48 / 50  Loss : 4.630679068396807e+00\n",
      "Epoch 49 / 50  Loss : 4.604981960665737e+00\n"
     ]
    }
   ],
   "source": [
    "n3.fit(train_x, train_y, 50, 0.0001, 0.9, 0.999, 10 ** -8) # Extra 50 more epochs with smaller alpha value."
   ]
  },
  {
   "cell_type": "code",
   "execution_count": 91,
   "id": "83136544",
   "metadata": {},
   "outputs": [
    {
     "name": "stderr",
     "output_type": "stream",
     "text": [
      "The PostScript backend does not support transparency; partially transparent artists will be rendered opaque.\n"
     ]
    },
    {
     "data": {
      "image/png": "[encoded data removed]",
      "text/plain": [
       "<Figure size 432x288 with 1 Axes>"
      ]
     },
     "metadata": {
      "needs_background": "light"
     },
     "output_type": "display_data"
    }
   ],
   "source": [
    "predicted = list()\n",
    "for i in x:\n",
    "    predicted.append(n3.predict(i))\n",
    "    \n",
    "import matplotlib.pyplot as plt\n",
    "\n",
    "plt.scatter(df.x, df.y, label='real', s=10)\n",
    "plt.scatter(df.x, predicted, label='predicted', s=10)\n",
    "plt.title(\"Predicted and Real Data\")\n",
    "plt.legend()\n",
    "plt.xlabel(\"X\")\n",
    "plt.ylabel(\"Y\")\n",
    "plt.savefig('multilayer_adam_new_5.eps')"
   ]
  },
  {
   "cell_type": "markdown",
   "id": "22207180",
   "metadata": {},
   "source": [
    "# last 50 epochs"
   ]
  },
  {
   "cell_type": "code",
   "execution_count": 92,
   "id": "5865557f",
   "metadata": {},
   "outputs": [
    {
     "name": "stdout",
     "output_type": "stream",
     "text": [
      "Epoch 0 / 50  Loss : 4.5797726149399045e+00\n",
      "Epoch 1 / 50  Loss : 4.555039528393987e+00\n",
      "Epoch 2 / 50  Loss : 4.5307715212810455e+00\n",
      "Epoch 3 / 50  Loss : 4.506957726026223e+00\n",
      "Epoch 4 / 50  Loss : 4.483587576785335e+00\n",
      "Epoch 5 / 50  Loss : 4.460650799427426e+00\n",
      "Epoch 6 / 50  Loss : 4.438137401932323e+00\n",
      "Epoch 7 / 50  Loss : 4.416037665175005e+00\n",
      "Epoch 8 / 50  Loss : 4.394342134078501e+00\n",
      "Epoch 9 / 50  Loss : 4.3730416091139555e+00\n",
      "Epoch 10 / 50  Loss : 4.352127138136071e+00\n",
      "Epoch 11 / 50  Loss : 4.331590008531962e+00\n",
      "Epoch 12 / 50  Loss : 4.3114217396695835e+00\n",
      "Epoch 13 / 50  Loss : 4.2916140756334915e+00\n",
      "Epoch 14 / 50  Loss : 4.272158978230978e+00\n",
      "Epoch 15 / 50  Loss : 4.253048620261594e+00\n",
      "Epoch 16 / 50  Loss : 4.234275379027849e+00\n",
      "Epoch 17 / 50  Loss : 4.215831830088171e+00\n",
      "Epoch 18 / 50  Loss : 4.197710741233204e+00\n",
      "Epoch 19 / 50  Loss : 4.179905066678231e+00\n",
      "Epoch 20 / 50  Loss : 4.162407941460622e+00\n",
      "Epoch 21 / 50  Loss : 4.145212676037981e+00\n",
      "Epoch 22 / 50  Loss : 4.12831275107383e+00\n",
      "Epoch 23 / 50  Loss : 4.111701812401221e+00\n",
      "Epoch 24 / 50  Loss : 4.095373666167339e+00\n",
      "Epoch 25 / 50  Loss : 4.079322274137245e+00\n",
      "Epoch 26 / 50  Loss : 4.063541749162202e+00\n",
      "Epoch 27 / 50  Loss : 4.048026350799201e+00\n",
      "Epoch 28 / 50  Loss : 4.032770481078123e+00\n",
      "Epoch 29 / 50  Loss : 4.01776868040984e+00\n",
      "Epoch 30 / 50  Loss : 4.003015623632111e+00\n",
      "Epoch 31 / 50  Loss : 3.9885061161840816e+00\n",
      "Epoch 32 / 50  Loss : 3.974235090406029e+00\n",
      "Epoch 33 / 50  Loss : 3.960197601963083e+00\n",
      "Epoch 34 / 50  Loss : 3.946388826380956e+00\n",
      "Epoch 35 / 50  Loss : 3.932804055697037e+00\n",
      "Epoch 36 / 50  Loss : 3.9194386952180422e+00\n",
      "Epoch 37 / 50  Loss : 3.9062882603798155e+00\n",
      "Epoch 38 / 50  Loss : 3.8933483737089385e+00\n",
      "Epoch 39 / 50  Loss : 3.88061476188217e+00\n",
      "Epoch 40 / 50  Loss : 3.868083252872644e+00\n",
      "Epoch 41 / 50  Loss : 3.8557497731943684e+00\n",
      "Epoch 42 / 50  Loss : 3.8436103452237336e+00\n",
      "Epoch 43 / 50  Loss : 3.831661084611353e+00\n",
      "Epoch 44 / 50  Loss : 3.8198981977706836e+00\n",
      "Epoch 45 / 50  Loss : 3.8083179794441757e+00\n",
      "Epoch 46 / 50  Loss : 3.7969168103450572e+00\n",
      "Epoch 47 / 50  Loss : 3.785691154871869e+00\n",
      "Epoch 48 / 50  Loss : 3.774637558889119e+00\n",
      "Epoch 49 / 50  Loss : 3.7637526475800236e+00\n"
     ]
    }
   ],
   "source": [
    "n3.fit(train_x, train_y, 50, 0.0001, 0.9, 0.999, 10 ** -8) # Extra 50 more epochs with smaller alpha value."
   ]
  },
  {
   "cell_type": "code",
   "execution_count": 93,
   "id": "a811ee3c",
   "metadata": {},
   "outputs": [
    {
     "name": "stderr",
     "output_type": "stream",
     "text": [
      "The PostScript backend does not support transparency; partially transparent artists will be rendered opaque.\n"
     ]
    },
    {
     "data": {
      "image/png": "[encoded data removed]",
      "text/plain": [
       "<Figure size 432x288 with 1 Axes>"
      ]
     },
     "metadata": {
      "needs_background": "light"
     },
     "output_type": "display_data"
    }
   ],
   "source": [
    "predicted = list()\n",
    "for i in x:\n",
    "    predicted.append(n3.predict(i))\n",
    "    \n",
    "import matplotlib.pyplot as plt\n",
    "\n",
    "plt.scatter(df.x, df.y, label='real', s=10)\n",
    "plt.scatter(df.x, predicted, label='predicted', s=10)\n",
    "plt.title(\"Predicted and Real Data\")\n",
    "plt.legend()\n",
    "plt.xlabel(\"X\")\n",
    "plt.ylabel(\"Y\")\n",
    "plt.savefig('multilayer_adam_new_6.eps')"
   ]
  },
  {
   "cell_type": "markdown",
   "id": "c697b126",
   "metadata": {},
   "source": [
    "# last last 50 epochs"
   ]
  },
  {
   "cell_type": "code",
   "execution_count": 94,
   "id": "42e069c4",
   "metadata": {},
   "outputs": [
    {
     "name": "stdout",
     "output_type": "stream",
     "text": [
      "Epoch 0 / 50  Loss : 3.753033123359276e+00\n",
      "Epoch 1 / 50  Loss : 3.7424757638534634e+00\n",
      "Epoch 2 / 50  Loss : 3.7320774199373306e+00\n",
      "Epoch 3 / 50  Loss : 3.721835013830678e+00\n",
      "Epoch 4 / 50  Loss : 3.711745537252591e+00\n",
      "Epoch 5 / 50  Loss : 3.7018060496283276e+00\n",
      "Epoch 6 / 50  Loss : 3.692013676349994e+00\n",
      "Epoch 7 / 50  Loss : 3.6823656070883657e+00\n",
      "Epoch 8 / 50  Loss : 3.6728590941538153e+00\n",
      "Epoch 9 / 50  Loss : 3.6634914509050547e+00\n",
      "Epoch 10 / 50  Loss : 3.654260050201704e+00\n",
      "Epoch 11 / 50  Loss : 3.645162322907044e+00\n",
      "Epoch 12 / 50  Loss : 3.636195756427297e+00\n",
      "Epoch 13 / 50  Loss : 3.627357893297219e+00\n",
      "Epoch 14 / 50  Loss : 3.618646329804228e+00\n",
      "Epoch 15 / 50  Loss : 3.6100587146511276e+00\n",
      "Epoch 16 / 50  Loss : 3.601592747658559e+00\n",
      "Epoch 17 / 50  Loss : 3.593246178502402e+00\n",
      "Epoch 18 / 50  Loss : 3.585016805486877e+00\n",
      "Epoch 19 / 50  Loss : 3.576902474352329e+00\n",
      "Epoch 20 / 50  Loss : 3.56890107711561e+00\n",
      "Epoch 21 / 50  Loss : 3.561010550944275e+00\n",
      "Epoch 22 / 50  Loss : 3.5532288770590577e+00\n",
      "Epoch 23 / 50  Loss : 3.5455540796689617e+00\n",
      "Epoch 24 / 50  Loss : 3.5379842249353306e+00\n",
      "Epoch 25 / 50  Loss : 3.530517419962366e+00\n",
      "Epoch 26 / 50  Loss : 3.523151811817203e+00\n",
      "Epoch 27 / 50  Loss : 3.5158855865755982e+00\n",
      "Epoch 28 / 50  Loss : 3.5087169683937267e+00\n",
      "Epoch 29 / 50  Loss : 3.5016442186043037e+00\n",
      "Epoch 30 / 50  Loss : 3.4946656348376517e+00\n",
      "Epoch 31 / 50  Loss : 3.487779550165542e+00\n",
      "Epoch 32 / 50  Loss : 3.4809843322697662e+00\n",
      "Epoch 33 / 50  Loss : 3.4742783826286425e+00\n",
      "Epoch 34 / 50  Loss : 3.467660135730122e+00\n",
      "Epoch 35 / 50  Loss : 3.4611280583022186e+00\n",
      "Epoch 36 / 50  Loss : 3.454680648563356e+00\n",
      "Epoch 37 / 50  Loss : 3.448316435495186e+00\n",
      "Epoch 38 / 50  Loss : 3.4420339781309415e+00\n",
      "Epoch 39 / 50  Loss : 3.435831864865534e+00\n",
      "Epoch 40 / 50  Loss : 3.4297087127804096e+00\n",
      "Epoch 41 / 50  Loss : 3.4236631669880735e+00\n",
      "Epoch 42 / 50  Loss : 3.4176938999919297e+00\n",
      "Epoch 43 / 50  Loss : 3.41179961106376e+00\n",
      "Epoch 44 / 50  Loss : 3.4059790256356743e+00\n",
      "Epoch 45 / 50  Loss : 3.400230894709235e+00\n",
      "Epoch 46 / 50  Loss : 3.394553994277795e+00\n",
      "Epoch 47 / 50  Loss : 3.388947124764122e+00\n",
      "Epoch 48 / 50  Loss : 3.3834091104728086e+00\n",
      "Epoch 49 / 50  Loss : 3.377938799055671e+00\n"
     ]
    }
   ],
   "source": [
    "n3.fit(train_x, train_y, 50, 0.0001, 0.9, 0.999, 10 ** -8) # Extra 50 more epochs with smaller alpha value."
   ]
  },
  {
   "cell_type": "code",
   "execution_count": 95,
   "id": "53c8a29c",
   "metadata": {},
   "outputs": [
    {
     "name": "stderr",
     "output_type": "stream",
     "text": [
      "The PostScript backend does not support transparency; partially transparent artists will be rendered opaque.\n"
     ]
    },
    {
     "data": {
      "image/png": "[encoded data removed]",
      "text/plain": [
       "<Figure size 432x288 with 1 Axes>"
      ]
     },
     "metadata": {
      "needs_background": "light"
     },
     "output_type": "display_data"
    }
   ],
   "source": [
    "predicted = list()\n",
    "for i in x:\n",
    "    predicted.append(n3.predict(i))\n",
    "    \n",
    "import matplotlib.pyplot as plt\n",
    "\n",
    "plt.scatter(df.x, df.y, label='real', s=10)\n",
    "plt.scatter(df.x, predicted, label='predicted', s=10)\n",
    "plt.title(\"Predicted and Real Data\")\n",
    "plt.legend()\n",
    "plt.xlabel(\"X\")\n",
    "plt.ylabel(\"Y\")\n",
    "plt.savefig('multilayer_adam_new_7.eps')"
   ]
  },
  {
   "cell_type": "code",
   "execution_count": null,
   "id": "85c0695f",
   "metadata": {},
   "outputs": [],
   "source": []
  }
 ],
 "metadata": {
  "kernelspec": {
   "display_name": "Python 3 (ipykernel)",
   "language": "python",
   "name": "python3"
  },
  "language_info": {
   "codemirror_mode": {
    "name": "ipython",
    "version": 3
   },
   "file_extension": ".py",
   "mimetype": "text/x-python",
   "name": "python",
   "nbconvert_exporter": "python",
   "pygments_lexer": "ipython3",
   "version": "3.9.12"
  }
 },
 "nbformat": 4,
 "nbformat_minor": 5
}
