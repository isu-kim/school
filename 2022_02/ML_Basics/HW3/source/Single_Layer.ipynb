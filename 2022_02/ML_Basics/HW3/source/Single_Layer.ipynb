{
 "cells": [
  {
   "cell_type": "markdown",
   "id": "7030c28f",
   "metadata": {},
   "source": [
    "# MLP Implementation\n",
    "### A code that implements MLP with single hidden layer\n",
    "By Isu Kim @ https://github.com/isu-kim"
   ]
  },
  {
   "cell_type": "code",
   "execution_count": 51,
   "id": "d7dbec51",
   "metadata": {},
   "outputs": [
    {
     "data": {
      "text/plain": [
       "<matplotlib.collections.PathCollection at 0x7f1ea55635e0>"
      ]
     },
     "execution_count": 51,
     "metadata": {},
     "output_type": "execute_result"
    },
    {
     "data": {
      "image/png": "[encoded data removed]",
      "text/plain": [
       "<Figure size 432x288 with 1 Axes>"
      ]
     },
     "metadata": {
      "needs_background": "light"
     },
     "output_type": "display_data"
    }
   ],
   "source": [
    "import pandas as pd\n",
    "df = pd.read_csv(\"hw3_data.csv\")\n",
    "\n",
    "import matplotlib.pyplot as plt\n",
    "plt.scatter(df.x, df.y)"
   ]
  },
  {
   "cell_type": "code",
   "execution_count": 52,
   "id": "3586f9fd",
   "metadata": {},
   "outputs": [],
   "source": [
    "import random\n",
    "\n",
    "\n",
    "def train_validate_split(x, y, train_percentage):\n",
    "    \"\"\"\n",
    "    A function that splits train data and validate data with given ratio\n",
    "    \n",
    "    @param x: The list of x.\n",
    "    @param y: The list of y.\n",
    "    @param train_percentage: The total train data's percentage. 0.8 for 80%\n",
    "    @return: tuple in train_x, train_y, validate_x, validate_y\n",
    "    \"\"\"\n",
    "    all_data = [i for i in range(len(x))]\n",
    "    selected = list()\n",
    "    for i in range(int(train_percentage * len(x))):\n",
    "        choice = random.choice(all_data)\n",
    "        selected.append(choice)\n",
    "        all_data.remove(choice)\n",
    "    \n",
    "    print(\"Total Train : \" + str(len(selected)) + \" / Total Validation : \" + str(len(all_data)))\n",
    "    \n",
    "    train_x = [x[i] for i in selected]\n",
    "    train_y = [y[i] for i in selected]\n",
    "    validate_x = [x[i] for i in all_data]\n",
    "    validate_y = [y[i] for i in all_data]\n",
    "    \n",
    "    return train_x, train_y, validate_x, validate_y"
   ]
  },
  {
   "cell_type": "code",
   "execution_count": 53,
   "id": "8bd32c64",
   "metadata": {},
   "outputs": [],
   "source": [
    "# Set data values\n",
    "x = list(df.x)\n",
    "y = list(df.y)"
   ]
  },
  {
   "cell_type": "code",
   "execution_count": 54,
   "id": "49cccf94",
   "metadata": {},
   "outputs": [
    {
     "name": "stdout",
     "output_type": "stream",
     "text": [
      "Total Train : 4000 / Total Validation : 1000\n"
     ]
    }
   ],
   "source": [
    "train_x, train_y, validate_x, validate_y = train_validate_split(x, y, 0.8)"
   ]
  },
  {
   "cell_type": "code",
   "execution_count": 55,
   "id": "815ec59a",
   "metadata": {},
   "outputs": [],
   "source": [
    "w = [1,1,1,1]"
   ]
  },
  {
   "cell_type": "code",
   "execution_count": 56,
   "id": "484814f1",
   "metadata": {},
   "outputs": [],
   "source": [
    "import numpy as np\n",
    "def sigmoid(x):\n",
    "    \"\"\"\n",
    "    A function that calculates sigmoid function.\n",
    "    @param x: The value to calculate sigmoid.\n",
    "    @returns: Calculated sigmoid.\n",
    "    \"\"\"\n",
    "    return 1 / (1 + np.exp(-x))"
   ]
  },
  {
   "cell_type": "code",
   "execution_count": 57,
   "id": "ee6563cc",
   "metadata": {},
   "outputs": [],
   "source": [
    "def sigmoid_prime(x):\n",
    "    \"\"\" \n",
    "    A function that calculates derivative of sigmoid function.\n",
    "    @param x: The value to calculate derivative of sigmoid.\n",
    "    @returns: Calculated value\n",
    "    \"\"\"\n",
    "    return sigmoid(x) * (1 - sigmoid(x))"
   ]
  },
  {
   "cell_type": "code",
   "execution_count": 58,
   "id": "3ac2033c",
   "metadata": {},
   "outputs": [],
   "source": [
    "def predict(x):\n",
    "    \"\"\"\n",
    "    A function that calculates predicted value of model.\n",
    "    @param x: The value to predict.\n",
    "    @returns: Predicted value according to the model.\n",
    "    \"\"\"\n",
    "    tmp = w[0] + w[1] * x\n",
    "    h = sigmoid(tmp)\n",
    "    result = w[2] + w[3] * h\n",
    "    return result"
   ]
  },
  {
   "cell_type": "code",
   "execution_count": 40,
   "id": "491dfde6",
   "metadata": {},
   "outputs": [],
   "source": [
    "def cost():\n",
    "    \"\"\"\n",
    "    A function that calculates cost function using MSE.\n",
    "    This will automatically calculate cost\n",
    "    @returns: MSE cost value.\n",
    "    \"\"\"\n",
    "    tmp = 0\n",
    "    for i in range(len(validate_x)):\n",
    "        tmp += (predict(validate_x[i]) - validate_y[i]) ** 2\n",
    "    return tmp / 2"
   ]
  },
  {
   "cell_type": "code",
   "execution_count": 72,
   "id": "2ab1e694",
   "metadata": {},
   "outputs": [],
   "source": [
    "def fit(alpha, epoch):\n",
    "    \"\"\"\n",
    "    A function that fits model using GD and backpropagation.\n",
    "    This will automatically retrieve all weights.\n",
    "    @param alpha: The learning rate value.\n",
    "    @param epoch: Total epoch count.\n",
    "    \"\"\"\n",
    "    global w\n",
    "    print(\"=\" * 20)\n",
    "    print(\"Alpha: \" + str(alpha))\n",
    "    print(\"Epoch: \" + str(epoch))\n",
    "    print(\"=\" * 20)\n",
    "    for j in range(epoch):\n",
    "        for i in range(len(train_x)):\n",
    "            y_hat = predict(train_x[i])\n",
    "            z = w[0] + w[1] * train_x[i]\n",
    "            tmp = [0, 0, 0, 0]\n",
    "            tmp[0] = w[0] - alpha * (y_hat - train_y[i]) * w[3] * 1 * sigmoid_prime(z)\n",
    "            tmp[1] = w[1] - alpha * (y_hat - train_y[i]) * w[3] * train_x[i] * sigmoid_prime(z)\n",
    "            tmp[2] = w[2] - alpha * (y_hat - train_y[i]) \n",
    "            tmp[3] = w[3] - alpha * (y_hat - train_y[i]) * z \n",
    "            w = tmp\n",
    "        print(\"Epoch \" + str(j) + \" / Validation Loss = \" + str(cost()))"
   ]
  },
  {
   "cell_type": "code",
   "execution_count": 73,
   "id": "9d315cee",
   "metadata": {},
   "outputs": [
    {
     "name": "stdout",
     "output_type": "stream",
     "text": [
      "====================\n",
      "Alpha: 0.01\n",
      "Epoch: 10\n",
      "====================\n",
      "Epoch 0 / Validation Loss = 1.075299756237752e+02\n",
      "Epoch 1 / Validation Loss = 1.0512681424065983e+02\n",
      "Epoch 2 / Validation Loss = 1.0489210146177919e+02\n",
      "Epoch 3 / Validation Loss = 1.0488116208723498e+02\n",
      "Epoch 4 / Validation Loss = 1.0489046269625324e+02\n",
      "Epoch 5 / Validation Loss = 1.0489702630002824e+02\n",
      "Epoch 6 / Validation Loss = 1.0490037456175182e+02\n",
      "Epoch 7 / Validation Loss = 1.0490193633776822e+02\n",
      "Epoch 8 / Validation Loss = 1.0490264099492357e+02\n",
      "Epoch 9 / Validation Loss = 1.0490295461857167e+02\n"
     ]
    }
   ],
   "source": [
    "fit(0.01, 10)"
   ]
  },
  {
   "cell_type": "code",
   "execution_count": 74,
   "id": "0ca63b68",
   "metadata": {},
   "outputs": [
    {
     "data": {
      "text/plain": [
       "[-1.778770819375766,\n",
       " -0.16241236287347544,\n",
       " -5.654484046435798,\n",
       " -2.4095863653231917]"
      ]
     },
     "execution_count": 74,
     "metadata": {},
     "output_type": "execute_result"
    }
   ],
   "source": [
    "w"
   ]
  },
  {
   "cell_type": "code",
   "execution_count": 75,
   "id": "3bad613b",
   "metadata": {},
   "outputs": [],
   "source": [
    "predicted = list()\n",
    "for i in x:\n",
    "    predicted.append(predict(i))"
   ]
  },
  {
   "cell_type": "code",
   "execution_count": 76,
   "id": "ca1ecb3c",
   "metadata": {
    "scrolled": false
   },
   "outputs": [
    {
     "name": "stderr",
     "output_type": "stream",
     "text": [
      "The PostScript backend does not support transparency; partially transparent artists will be rendered opaque.\n"
     ]
    },
    {
     "data": {
      "image/png": "[encoded data removed]",
      "text/plain": [
       "<Figure size 432x288 with 1 Axes>"
      ]
     },
     "metadata": {
      "needs_background": "light"
     },
     "output_type": "display_data"
    }
   ],
   "source": [
    "import matplotlib.pyplot as plt\n",
    "\n",
    "plt.scatter(df.x, df.y, label='real', s=10)\n",
    "plt.scatter(df.x, predicted, label='predicted', s=10)\n",
    "plt.title(\"Predicted and Real Data\")\n",
    "plt.legend()\n",
    "plt.xlabel(\"X\")\n",
    "plt.ylabel(\"Y\")\n",
    "plt.savefig('single_layer.eps')"
   ]
  },
  {
   "cell_type": "code",
   "execution_count": 77,
   "id": "8b19d1aa",
   "metadata": {},
   "outputs": [
    {
     "data": {
      "text/plain": [
       "1.0490295461857167e+02"
      ]
     },
     "execution_count": 77,
     "metadata": {},
     "output_type": "execute_result"
    }
   ],
   "source": [
    "cost()"
   ]
  }
 ],
 "metadata": {
  "kernelspec": {
   "display_name": "Python 3 (ipykernel)",
   "language": "python",
   "name": "python3"
  },
  "language_info": {
   "codemirror_mode": {
    "name": "ipython",
    "version": 3
   },
   "file_extension": ".py",
   "mimetype": "text/x-python",
   "name": "python",
   "nbconvert_exporter": "python",
   "pygments_lexer": "ipython3",
   "version": "3.9.12"
  }
 },
 "nbformat": 4,
 "nbformat_minor": 5
}
