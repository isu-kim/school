{
 "cells": [
  {
   "cell_type": "code",
   "execution_count": 1,
   "id": "fce0f274",
   "metadata": {},
   "outputs": [
    {
     "data": {
      "text/plain": [
       "'\\nAn implementation of linear regression using gradient descent.\\nThis will fit y = ax + b using gradient descent method into the plot.\\nThis is for Task 1 for HW1.\\n\\nBy 32190984 Isu Kim @ github.com/gooday2die\\n'"
      ]
     },
     "execution_count": 1,
     "metadata": {},
     "output_type": "execute_result"
    }
   ],
   "source": [
    "\"\"\"\n",
    "An implementation of linear regression using gradient descent.\n",
    "This will fit y = ax + b using gradient descent method into the plot.\n",
    "This is for Task 1 for HW1.\n",
    "\n",
    "By 32190984 Isu Kim @ github.com/gooday2die\n",
    "\"\"\""
   ]
  },
  {
   "cell_type": "code",
   "execution_count": 2,
   "id": "6176320d",
   "metadata": {},
   "outputs": [],
   "source": [
    "import pandas as pd\n",
    "import numpy as np\n",
    "\n",
    "df = pd.read_csv('data_hw1.csv')  # Import data using pandas"
   ]
  },
  {
   "cell_type": "code",
   "execution_count": 3,
   "id": "dd710cb4",
   "metadata": {},
   "outputs": [],
   "source": [
    "x_val = df.x\n",
    "y_val = df.y"
   ]
  },
  {
   "cell_type": "code",
   "execution_count": 4,
   "id": "7a73832e",
   "metadata": {
    "scrolled": true
   },
   "outputs": [
    {
     "data": {
      "text/html": [
       "<div>\n",
       "<style scoped>\n",
       "    .dataframe tbody tr th:only-of-type {\n",
       "        vertical-align: middle;\n",
       "    }\n",
       "\n",
       "    .dataframe tbody tr th {\n",
       "        vertical-align: top;\n",
       "    }\n",
       "\n",
       "    .dataframe thead th {\n",
       "        text-align: right;\n",
       "    }\n",
       "</style>\n",
       "<table border=\"1\" class=\"dataframe\">\n",
       "  <thead>\n",
       "    <tr style=\"text-align: right;\">\n",
       "      <th></th>\n",
       "      <th>x</th>\n",
       "      <th>y</th>\n",
       "    </tr>\n",
       "  </thead>\n",
       "  <tbody>\n",
       "    <tr>\n",
       "      <th>0</th>\n",
       "      <td>-1.572851</td>\n",
       "      <td>-0.927733</td>\n",
       "    </tr>\n",
       "    <tr>\n",
       "      <th>1</th>\n",
       "      <td>-2.424197</td>\n",
       "      <td>-23.341094</td>\n",
       "    </tr>\n",
       "    <tr>\n",
       "      <th>2</th>\n",
       "      <td>0.402431</td>\n",
       "      <td>10.935209</td>\n",
       "    </tr>\n",
       "    <tr>\n",
       "      <th>3</th>\n",
       "      <td>-1.648521</td>\n",
       "      <td>-2.257155</td>\n",
       "    </tr>\n",
       "    <tr>\n",
       "      <th>4</th>\n",
       "      <td>-1.899214</td>\n",
       "      <td>-7.499411</td>\n",
       "    </tr>\n",
       "    <tr>\n",
       "      <th>...</th>\n",
       "      <td>...</td>\n",
       "      <td>...</td>\n",
       "    </tr>\n",
       "    <tr>\n",
       "      <th>995</th>\n",
       "      <td>-0.388337</td>\n",
       "      <td>9.106198</td>\n",
       "    </tr>\n",
       "    <tr>\n",
       "      <th>996</th>\n",
       "      <td>-1.474044</td>\n",
       "      <td>0.646293</td>\n",
       "    </tr>\n",
       "    <tr>\n",
       "      <th>997</th>\n",
       "      <td>-1.799926</td>\n",
       "      <td>-5.262406</td>\n",
       "    </tr>\n",
       "    <tr>\n",
       "      <th>998</th>\n",
       "      <td>-1.639442</td>\n",
       "      <td>-2.091766</td>\n",
       "    </tr>\n",
       "    <tr>\n",
       "      <th>999</th>\n",
       "      <td>0.675706</td>\n",
       "      <td>11.968438</td>\n",
       "    </tr>\n",
       "  </tbody>\n",
       "</table>\n",
       "<p>1000 rows × 2 columns</p>\n",
       "</div>"
      ],
      "text/plain": [
       "            x          y\n",
       "0   -1.572851  -0.927733\n",
       "1   -2.424197 -23.341094\n",
       "2    0.402431  10.935209\n",
       "3   -1.648521  -2.257155\n",
       "4   -1.899214  -7.499411\n",
       "..        ...        ...\n",
       "995 -0.388337   9.106198\n",
       "996 -1.474044   0.646293\n",
       "997 -1.799926  -5.262406\n",
       "998 -1.639442  -2.091766\n",
       "999  0.675706  11.968438\n",
       "\n",
       "[1000 rows x 2 columns]"
      ]
     },
     "execution_count": 4,
     "metadata": {},
     "output_type": "execute_result"
    }
   ],
   "source": [
    "df"
   ]
  },
  {
   "cell_type": "code",
   "execution_count": 5,
   "id": "097141d3",
   "metadata": {
    "scrolled": false
   },
   "outputs": [
    {
     "data": {
      "image/png": "[encoded data removed]",
      "text/plain": [
       "<Figure size 432x288 with 1 Axes>"
      ]
     },
     "metadata": {
      "needs_background": "light"
     },
     "output_type": "display_data"
    }
   ],
   "source": [
    "import matplotlib.pyplot as plt\n",
    "plt.scatter(df.x, df.y)\n",
    "plt.show()  # Our data looks like this."
   ]
  },
  {
   "cell_type": "code",
   "execution_count": 8,
   "id": "f7de8853",
   "metadata": {},
   "outputs": [],
   "source": [
    "def do_gradient_descent(max_iter, learning_rate, data_x, data_y):\n",
    "    \"\"\"\n",
    "    A function that does gradient descent.\n",
    "    This will follow rule that was introduced in slide 54 of \"[Slide] 02. Linear Regression.\"\n",
    "    \n",
    "    The equation will be h(x) = a * x + b\n",
    "    Also the cost function will be used as MSE.\n",
    "    \n",
    "    Thus following update rules for a and be is set:\n",
    "    a = a - learning_rate * 1/m * sum i=0 to m (h(x_i) - y_i) * x_i\n",
    "    b = b - learning rate * 1/m * sum i=0 to m (h(x_i) - y_i)\n",
    "    \n",
    "    @param max_iter: The maximum iteration count for training.\n",
    "    @param learning_rate: The learning rate for gradient descent.\n",
    "    @param data_x: The x data.\n",
    "    @param data_y: The y data.\n",
    "    @return list object that contains (a, b)\n",
    "    \"\"\"\n",
    "    a = np.random.uniform(low=-1.0, high=1.0)  # Initial value set for a and b\n",
    "    b = np.random.uniform(low=-1.0, high=1.0)\n",
    "    \n",
    "    before_a = 99  # Store before value to figure out if convergence happened or not.\n",
    "    before_b = 99\n",
    "    \n",
    "    for i in range(max_iter):  # Iterate for max_iter count\n",
    "        if i % 5 == 0:  # In every 5 iterations, print a and b, just for outputs.\n",
    "            print(\"[+] Iter : \" + str(i) + \" / a = \" + str(a) + \" / b = \" + str(b))\n",
    "\n",
    "\n",
    "        before_a = a  # Store a and b for checking convergence\n",
    "        before_b = b\n",
    "        \n",
    "        a_update_value = 0\n",
    "        b_update_value = 0\n",
    "        \n",
    "        # a = a - learning_rate * 1/m * sum i=0 to m (h(x_i) - y_i) * x_i\n",
    "        # b = b - learning rate * 1/m * sum i=0 to m (h(x_i) - y_i)\n",
    "        # Is our update rule for a and b. So calculate them\n",
    "        for i in range(len(data_x)):  \n",
    "            a_update_value += ((a * data_x[i] + b) - data_y[i]) * data_x[i]\n",
    "            b_update_value += ((a * data_x[i] + b) - data_y[i])\n",
    "        \n",
    "        # Update values of a and b \"simultaneously\"\n",
    "        a = a - learning_rate * (a_update_value / len(data_x))\n",
    "        b = b - learning_rate * (b_update_value / len(data_x))\n",
    "    \n",
    "        # Check if convergence happened. If so, stop training.\n",
    "        if (a == before_a) and (b == before_b):\n",
    "            print(\"Convergence!!! Stop training.\")\n",
    "            break\n",
    "        \n",
    "    \n",
    "    return a, b"
   ]
  },
  {
   "cell_type": "code",
   "execution_count": 9,
   "id": "3acbc8e2",
   "metadata": {
    "scrolled": true
   },
   "outputs": [
    {
     "name": "stdout",
     "output_type": "stream",
     "text": [
      "[+] Iter : 0 / a = -0.23169379717133176 / b = 0.6624697061131597\n",
      "[+] Iter : 5 / a = 5.658340060720814 / b = 1.0900569868018557\n",
      "[+] Iter : 10 / a = 7.758420492706325 / b = 2.7966923459425956\n",
      "[+] Iter : 15 / a = 8.884485752969287 / b = 4.411285651012258\n",
      "[+] Iter : 20 / a = 9.658088953542055 / b = 5.729848257517505\n",
      "[+] Iter : 25 / a = 10.240370807575648 / b = 6.771213836342978\n",
      "[+] Iter : 30 / a = 10.690517949888601 / b = 7.586692108646804\n",
      "[+] Iter : 35 / a = 11.04104593805742 / b = 8.223866208676998\n",
      "[+] Iter : 40 / a = 11.314526178546545 / b = 8.721432323292689\n",
      "[+] Iter : 45 / a = 11.52800239933708 / b = 9.109919692983995\n",
      "[+] Iter : 50 / a = 11.694662288233017 / b = 9.41322882582977\n",
      "[+] Iter : 55 / a = 11.824777463055343 / b = 9.650033056863052\n",
      "[+] Iter : 60 / a = 11.926362287384876 / b = 9.834914027943302\n",
      "[+] Iter : 65 / a = 12.005672803725558 / b = 9.979256669768471\n",
      "[+] Iter : 70 / a = 12.067593096269334 / b = 10.091949685653583\n",
      "[+] Iter : 75 / a = 12.115936285213762 / b = 10.179932800141907\n",
      "[+] Iter : 80 / a = 12.153679388892666 / b = 10.248624087443746\n",
      "[+] Iter : 85 / a = 12.183146660769202 / b = 10.302253615813328\n",
      "[+] Iter : 90 / a = 12.206152720946733 / b = 10.344123937704778\n",
      "[+] Iter : 95 / a = 12.224114302444317 / b = 10.376813463571615\n",
      "[+] Iter : 100 / a = 12.238137494919421 / b = 10.402335242556262\n",
      "[+] Iter : 105 / a = 12.249085858638466 / b = 10.422260927779828\n",
      "[+] Iter : 110 / a = 12.257633603265027 / b = 10.437817560092398\n",
      "[+] Iter : 115 / a = 12.264307106272067 / b = 10.449963130304557\n",
      "[+] Iter : 120 / a = 12.26951732772003 / b = 10.459445573086166\n",
      "[+] Iter : 125 / a = 12.273585117531193 / b = 10.466848825427208\n",
      "[+] Iter : 130 / a = 12.276760973704114 / b = 10.472628785980353\n",
      "[+] Iter : 135 / a = 12.27924046819604 / b = 10.477141389692465\n",
      "[+] Iter : 140 / a = 12.281176290412393 / b = 10.480664526585068\n",
      "[+] Iter : 145 / a = 12.282687649951821 / b = 10.483415154461103\n",
      "[+] Iter : 150 / a = 12.283867617635902 / b = 10.485562659353207\n",
      "[+] Iter : 155 / a = 12.28478885689046 / b = 10.487239286461433\n",
      "[+] Iter : 160 / a = 12.285508098421891 / b = 10.48854828392653\n",
      "[+] Iter : 165 / a = 12.286069633742907 / b = 10.489570260939319\n",
      "[+] Iter : 170 / a = 12.286508042681994 / b = 10.490368151724073\n",
      "[+] Iter : 175 / a = 12.28685032283906 / b = 10.490991091082229\n",
      "[+] Iter : 180 / a = 12.287117552120844 / b = 10.491477440155755\n",
      "[+] Iter : 185 / a = 12.287326186736577 / b = 10.491857148739301\n",
      "[+] Iter : 190 / a = 12.287489074585514 / b = 10.492153599614332\n",
      "[+] Iter : 195 / a = 12.28761624644162 / b = 10.492385048480951\n",
      "[+] Iter : 200 / a = 12.28771553365728 / b = 10.492565748159619\n",
      "[+] Iter : 205 / a = 12.287793050424709 / b = 10.492706826292114\n",
      "[+] Iter : 210 / a = 12.28785357029318 / b = 10.492816970591292\n",
      "[+] Iter : 215 / a = 12.2879008201283 / b = 10.492902963837919\n",
      "[+] Iter : 220 / a = 12.287937709615589 / b = 10.492970101570153\n",
      "[+] Iter : 225 / a = 12.287966510441432 / b = 10.493022518187345\n",
      "[+] Iter : 230 / a = 12.287988996185481 / b = 10.493063441549909\n",
      "[+] Iter : 235 / a = 12.288006551539214 / b = 10.493095391753743\n",
      "[+] Iter : 240 / a = 12.288020257576425 / b = 10.493120336319901\n",
      "[+] Iter : 245 / a = 12.288030958326686 / b = 10.493139811356246\n",
      "[+] Iter : 250 / a = 12.28803931275141 / b = 10.493155016152285\n",
      "[+] Iter : 255 / a = 12.288045835323265 / b = 10.493166887032439\n",
      "[+] Iter : 260 / a = 12.28805092770784 / b = 10.493176155015735\n",
      "[+] Iter : 265 / a = 12.28805490349856 / b = 10.493183390832563\n",
      "[+] Iter : 270 / a = 12.288058007528042 / b = 10.49318904007075\n",
      "[+] Iter : 275 / a = 12.288060430945096 / b = 10.493193450615246\n",
      "[+] Iter : 280 / a = 12.288062322985825 / b = 10.49319689407118\n",
      "[+] Iter : 285 / a = 12.28806380016373 / b = 10.493199582489533\n",
      "[+] Iter : 290 / a = 12.288064953444698 / b = 10.493201681425422\n",
      "[+] Iter : 295 / a = 12.288065853848764 / b = 10.493203320133125\n",
      "[+] Iter : 300 / a = 12.288066556823582 / b = 10.493204599525674\n",
      "[+] Iter : 305 / a = 12.28806710565895 / b = 10.493205598389165\n",
      "[+] Iter : 310 / a = 12.28806753415262 / b = 10.493206378234467\n",
      "[+] Iter : 315 / a = 12.288067868691606 / b = 10.493206987085127\n",
      "[+] Iter : 320 / a = 12.288068129877104 / b = 10.493207462434697\n",
      "[+] Iter : 325 / a = 12.288068333793138 / b = 10.49320783355561\n",
      "[+] Iter : 330 / a = 12.288068492997038 / b = 10.493208123301809\n",
      "[+] Iter : 335 / a = 12.288068617292714 / b = 10.493208349516117\n",
      "[+] Iter : 340 / a = 12.2880687143344 / b = 10.493208526129004\n",
      "[+] Iter : 345 / a = 12.288068790098013 / b = 10.493208664016448\n",
      "[+] Iter : 350 / a = 12.288068849249136 / b = 10.493208771669671\n",
      "[+] Iter : 355 / a = 12.288068895430346 / b = 10.493208855718052\n",
      "[+] Iter : 360 / a = 12.288068931485522 / b = 10.493208921337366\n",
      "[+] Iter : 365 / a = 12.288068959634975 / b = 10.493208972568505\n",
      "[+] Iter : 370 / a = 12.28806898161217 / b = 10.493209012566325\n",
      "[+] Iter : 375 / a = 12.288068998770482 / b = 10.493209043793927\n",
      "[+] Iter : 380 / a = 12.288069012166538 / b = 10.493209068174334\n",
      "[+] Iter : 385 / a = 12.288069022625274 / b = 10.493209087208912\n",
      "[+] Iter : 390 / a = 12.288069030790751 / b = 10.493209102069828\n",
      "[+] Iter : 395 / a = 12.288069037165805 / b = 10.493209113672231\n",
      "[+] Iter : 400 / a = 12.288069042143018 / b = 10.493209122730605\n",
      "[+] Iter : 405 / a = 12.28806904602889 / b = 10.493209129802773\n",
      "[+] Iter : 410 / a = 12.288069049062717 / b = 10.493209135324246\n",
      "[+] Iter : 415 / a = 12.288069051431325 / b = 10.49320913963504\n",
      "[+] Iter : 420 / a = 12.288069053280575 / b = 10.493209143000616\n",
      "[+] Iter : 425 / a = 12.288069054724344 / b = 10.493209145628233\n",
      "[+] Iter : 430 / a = 12.288069055851544 / b = 10.4932091476797\n",
      "[+] Iter : 435 / a = 12.288069056731581 / b = 10.493209149281345\n",
      "[+] Iter : 440 / a = 12.288069057418657 / b = 10.493209150531799\n",
      "[+] Iter : 445 / a = 12.288069057955079 / b = 10.493209151508072\n",
      "[+] Iter : 450 / a = 12.288069058373884 / b = 10.49320915227028\n",
      "[+] Iter : 455 / a = 12.288069058700856 / b = 10.49320915286536\n",
      "[+] Iter : 460 / a = 12.288069058956134 / b = 10.493209153329957\n",
      "[+] Iter : 465 / a = 12.288069059155438 / b = 10.493209153692685\n",
      "[+] Iter : 470 / a = 12.28806905931104 / b = 10.49320915397588\n",
      "[+] Iter : 475 / a = 12.288069059432525 / b = 10.493209154196979\n",
      "[+] Iter : 480 / a = 12.288069059527373 / b = 10.493209154369598\n",
      "[+] Iter : 485 / a = 12.288069059601423 / b = 10.493209154504367\n",
      "[+] Iter : 490 / a = 12.288069059659236 / b = 10.493209154609586\n",
      "[+] Iter : 495 / a = 12.288069059704375 / b = 10.493209154691733\n",
      "[+] Iter : 500 / a = 12.288069059739614 / b = 10.493209154755869\n",
      "[+] Iter : 505 / a = 12.288069059767128 / b = 10.49320915480594\n",
      "[+] Iter : 510 / a = 12.288069059788606 / b = 10.493209154845037\n",
      "[+] Iter : 515 / a = 12.288069059805379 / b = 10.493209154875558\n",
      "[+] Iter : 520 / a = 12.28806905981847 / b = 10.493209154899386\n",
      "[+] Iter : 525 / a = 12.288069059828693 / b = 10.49320915491799\n",
      "[+] Iter : 530 / a = 12.288069059836674 / b = 10.493209154932515\n",
      "[+] Iter : 535 / a = 12.288069059842906 / b = 10.493209154943855\n",
      "[+] Iter : 540 / a = 12.28806905984777 / b = 10.493209154952709\n",
      "[+] Iter : 545 / a = 12.288069059851567 / b = 10.49320915495962\n",
      "[+] Iter : 550 / a = 12.288069059854532 / b = 10.493209154965017\n",
      "[+] Iter : 555 / a = 12.288069059856847 / b = 10.493209154969229\n",
      "[+] Iter : 560 / a = 12.288069059858653 / b = 10.493209154972519\n",
      "[+] Iter : 565 / a = 12.288069059860065 / b = 10.493209154975085\n",
      "[+] Iter : 570 / a = 12.288069059861167 / b = 10.493209154977091\n",
      "[+] Iter : 575 / a = 12.288069059862027 / b = 10.493209154978656\n",
      "[+] Iter : 580 / a = 12.288069059862698 / b = 10.493209154979878\n",
      "[+] Iter : 585 / a = 12.288069059863222 / b = 10.493209154980832\n",
      "[+] Iter : 590 / a = 12.288069059863632 / b = 10.493209154981578\n",
      "[+] Iter : 595 / a = 12.28806905986395 / b = 10.493209154982159\n",
      "[+] Iter : 600 / a = 12.288069059864199 / b = 10.493209154982612\n",
      "[+] Iter : 605 / a = 12.288069059864394 / b = 10.493209154982967\n",
      "[+] Iter : 610 / a = 12.288069059864547 / b = 10.493209154983244\n",
      "[+] Iter : 615 / a = 12.288069059864666 / b = 10.493209154983461\n",
      "[+] Iter : 620 / a = 12.288069059864759 / b = 10.49320915498363\n",
      "[+] Iter : 625 / a = 12.288069059864831 / b = 10.493209154983761\n",
      "[+] Iter : 630 / a = 12.288069059864888 / b = 10.493209154983864\n",
      "[+] Iter : 635 / a = 12.288069059864933 / b = 10.493209154983946\n"
     ]
    },
    {
     "name": "stdout",
     "output_type": "stream",
     "text": [
      "[+] Iter : 640 / a = 12.288069059864968 / b = 10.493209154984008\n",
      "[+] Iter : 645 / a = 12.288069059864995 / b = 10.493209154984056\n",
      "[+] Iter : 650 / a = 12.288069059865014 / b = 10.493209154984095\n",
      "[+] Iter : 655 / a = 12.28806905986503 / b = 10.493209154984124\n",
      "[+] Iter : 660 / a = 12.288069059865043 / b = 10.493209154984147\n",
      "[+] Iter : 665 / a = 12.288069059865052 / b = 10.493209154984164\n",
      "[+] Iter : 670 / a = 12.28806905986506 / b = 10.493209154984179\n",
      "[+] Iter : 675 / a = 12.288069059865066 / b = 10.493209154984187\n",
      "[+] Iter : 680 / a = 12.288069059865071 / b = 10.493209154984196\n",
      "[+] Iter : 685 / a = 12.288069059865075 / b = 10.493209154984205\n",
      "Convergence!!! Stop training.\n"
     ]
    }
   ],
   "source": [
    "a, b = do_gradient_descent(1000, 0.1, df.x, df.y)  # Run 1000 times with learning rate of 0.1"
   ]
  },
  {
   "cell_type": "code",
   "execution_count": 11,
   "id": "4d47635e",
   "metadata": {},
   "outputs": [],
   "source": [
    "def get_mse(a, b):\n",
    "    \"\"\"\n",
    "    A function that gets MSE value with a and b\n",
    "    @return an calculated MSE value with current model.\n",
    "    \"\"\"\n",
    "    total = 0\n",
    "    for i in range(len(df.x)):\n",
    "        predicted = a * df.x[i] + b  # Predict values\n",
    "        dif = predicted - df.y[i]  # Get difference\n",
    "        total += dif ** 2  # Square difference\n",
    "\n",
    "    return total / (2 * len(df.x))  # Multiple 1/2 and get average"
   ]
  },
  {
   "cell_type": "code",
   "execution_count": 12,
   "id": "49971a48",
   "metadata": {
    "scrolled": true
   },
   "outputs": [
    {
     "data": {
      "text/plain": [
       "25.856804317150687"
      ]
     },
     "execution_count": 12,
     "metadata": {},
     "output_type": "execute_result"
    }
   ],
   "source": [
    "get_mse(a, b)"
   ]
  },
  {
   "cell_type": "code",
   "execution_count": 8,
   "id": "0416decc",
   "metadata": {},
   "outputs": [],
   "source": [
    "def plot_data(a, b, iter_count):\n",
    "    # For printing our regression function into the plot.\n",
    "    x = np.linspace(-5,5,100)\n",
    "    y = a * x + b\n",
    "\n",
    "    plt.plot(x, y, '-r', label='Regression')\n",
    "    plt.title('Regression and Real Data : Iteration = ' + str(iter_count))\n",
    "\n",
    "    plt.xlabel('x', color='#1C2833')\n",
    "    plt.ylabel('y', color='#1C2833')\n",
    "\n",
    "    # Plot original data.\n",
    "    plt.scatter(df.x, df.y, label='Real Data')\n",
    "    plt.legend(loc='upper left')\n",
    "    plt.show()  # Our data looks like this."
   ]
  },
  {
   "cell_type": "code",
   "execution_count": 13,
   "id": "54b76962",
   "metadata": {
    "scrolled": false
   },
   "outputs": [
    {
     "data": {
      "image/png": "[encoded data removed]",
      "text/plain": [
       "<Figure size 432x288 with 1 Axes>"
      ]
     },
     "metadata": {
      "needs_background": "light"
     },
     "output_type": "display_data"
    }
   ],
   "source": [
    "import matplotlib.pyplot as plt\n",
    "import numpy as np\n",
    "\n",
    "# For printing our regression function into the plot.\n",
    "x = np.linspace(-5,5,100)\n",
    "y = a * x + b\n",
    "\n",
    "plt.plot(x, y, '-r', label='Regression')\n",
    "plt.title('Regression and Real Data - Task 1')\n",
    "\n",
    "plt.xlabel('x', color='#1C2833')\n",
    "plt.ylabel('y', color='#1C2833')\n",
    "\n",
    "# Plot original data.\n",
    "plt.scatter(df.x, df.y, label='Real Data')\n",
    "plt.legend(loc='upper left')\n",
    "plt.show()  # Our data looks like this."
   ]
  },
  {
   "cell_type": "code",
   "execution_count": null,
   "id": "4d5c1a2d",
   "metadata": {},
   "outputs": [],
   "source": []
  }
 ],
 "metadata": {
  "kernelspec": {
   "display_name": "Python 3 (ipykernel)",
   "language": "python",
   "name": "python3"
  },
  "language_info": {
   "codemirror_mode": {
    "name": "ipython",
    "version": 3
   },
   "file_extension": ".py",
   "mimetype": "text/x-python",
   "name": "python",
   "nbconvert_exporter": "python",
   "pygments_lexer": "ipython3",
   "version": "3.9.12"
  }
 },
 "nbformat": 4,
 "nbformat_minor": 5
}
