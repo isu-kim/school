{
 "cells": [
  {
   "cell_type": "code",
   "execution_count": 1,
   "id": "01f1209c",
   "metadata": {},
   "outputs": [
    {
     "data": {
      "text/plain": [
       "'\\nAn implementation of linear regression using normal equation.\\nThis will fit y = ax^2 + bx + c using normal equation method into the plot.\\nThis is for Task 2 for HW1.\\n\\nBy 32190984 Isu Kim @ github.com/gooday2die\\n'"
      ]
     },
     "execution_count": 1,
     "metadata": {},
     "output_type": "execute_result"
    }
   ],
   "source": [
    "\"\"\"\n",
    "An implementation of linear regression using normal equation.\n",
    "This will fit y = ax^2 + bx + c using normal equation method into the plot.\n",
    "This is for Task 2 for HW1.\n",
    "\n",
    "By 32190984 Isu Kim @ github.com/gooday2die\n",
    "\"\"\""
   ]
  },
  {
   "cell_type": "code",
   "execution_count": 2,
   "id": "24a04e88",
   "metadata": {},
   "outputs": [],
   "source": [
    "import pandas as pd\n",
    "import numpy as np\n",
    "\n",
    "df = pd.read_csv('data_hw1.csv')  # Import data using pandas"
   ]
  },
  {
   "cell_type": "code",
   "execution_count": 3,
   "id": "11b24fa7",
   "metadata": {},
   "outputs": [],
   "source": [
    "def normal_equation(A, B):\n",
    "    \"\"\"\n",
    "    A function that gets best X using normal equation.\n",
    "    The formula that we use here is:\n",
    "    X = inverse (A transponse mul A) mul (A transpose) mul B\n",
    "    \n",
    "    @param A: The vector A (Which contains 1000 x 3 size)\n",
    "    @param B: The vector B (Which literally just stores 1000 x 1 size which contains y values.)\n",
    "    @return Matrix X that was retrieved by normal equation.\n",
    "    \"\"\"\n",
    "    X = np.matmul(np.transpose(A), A)  # Calculate Transpose A mul A\n",
    "    X = np.linalg.inv(X)  # Calculate inverse of (Transpose A mul A)\n",
    "    X = np.matmul(X, np.transpose(A))  # Calculate inverse mul Transpose A\n",
    "    X = np.matmul(X, B)  # Calculate mul B\n",
    "    \n",
    "    return X"
   ]
  },
  {
   "cell_type": "code",
   "execution_count": 4,
   "id": "bb794ad8",
   "metadata": {},
   "outputs": [],
   "source": [
    "def run_task2(df):\n",
    "    \"\"\"\n",
    "    A function that runs task2 from HW 1.\n",
    "    \n",
    "    @param df: The DataFrame that was retrieved by csv file.\n",
    "    @return Matrix X that was retrieved by normal equation.\n",
    "    \"\"\"\n",
    "    A = np.zeros((len(df.x), 3))  # Generate matrix for A\n",
    "    for i in range(len(df.x)):\n",
    "        A[i][0] = df.x[i] ** 2  # Calculate x^2\n",
    "        A[i][1] = df.x[i]  # Calculate x\n",
    "        A[i][2] = 1  # Calculate x^0 == 1\n",
    "        \n",
    "    B = np.zeros((len(df.y), 1))  # Generate matrix for B\n",
    "    for i in range(len(df.y)):  # Store y values into B.\n",
    "        B[i][0] = df.y[i]\n",
    "        \n",
    "    X = normal_equation(A, B)\n",
    "    return X"
   ]
  },
  {
   "cell_type": "code",
   "execution_count": 5,
   "id": "c401f926",
   "metadata": {},
   "outputs": [],
   "source": [
    "X = run_task2(df)"
   ]
  },
  {
   "cell_type": "code",
   "execution_count": 6,
   "id": "07c3243d",
   "metadata": {},
   "outputs": [
    {
     "data": {
      "image/png": "[encoded data removed]",
      "text/plain": [
       "<Figure size 432x288 with 1 Axes>"
      ]
     },
     "metadata": {
      "needs_background": "light"
     },
     "output_type": "display_data"
    }
   ],
   "source": [
    "import matplotlib.pyplot as plt\n",
    "import numpy as np\n",
    "\n",
    "# For printing our regression function into the plot.\n",
    "x = np.linspace(-4,3,100)\n",
    "y = X[0] * (x ** 2) + X[1] * x + X[2]\n",
    "\n",
    "plt.plot(x, y, '-r', label='Regression')\n",
    "plt.title('Regression and Real Data')\n",
    "\n",
    "plt.xlabel('x', color='#1C2833')\n",
    "plt.ylabel('y', color='#1C2833')\n",
    "\n",
    "# Plot original data.\n",
    "plt.scatter(df.x, df.y, label='Real Data')\n",
    "plt.legend(loc='upper left')\n",
    "plt.show()  # Our data looks like this."
   ]
  }
 ],
 "metadata": {
  "kernelspec": {
   "display_name": "Python 3 (ipykernel)",
   "language": "python",
   "name": "python3"
  },
  "language_info": {
   "codemirror_mode": {
    "name": "ipython",
    "version": 3
   },
   "file_extension": ".py",
   "mimetype": "text/x-python",
   "name": "python",
   "nbconvert_exporter": "python",
   "pygments_lexer": "ipython3",
   "version": "3.9.12"
  }
 },
 "nbformat": 4,
 "nbformat_minor": 5
}
