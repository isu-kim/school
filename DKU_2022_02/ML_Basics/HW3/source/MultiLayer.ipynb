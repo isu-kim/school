{
 "cells": [
  {
   "cell_type": "markdown",
   "id": "8d54ad1f",
   "metadata": {},
   "source": [
    "# MLP Implementation\n",
    "### A code that implements MLP with multiple layers\n",
    "By Isu Kim @ https://github.com/isu-kim"
   ]
  },
  {
   "cell_type": "code",
   "execution_count": 2,
   "id": "a578993d",
   "metadata": {},
   "outputs": [],
   "source": [
    "import numpy as np\n",
    "import random"
   ]
  },
  {
   "cell_type": "code",
   "execution_count": 3,
   "id": "bc206e61",
   "metadata": {},
   "outputs": [],
   "source": [
    "import random\n",
    "\n",
    "\n",
    "def train_validate_split(x, y, train_percentage):\n",
    "    \"\"\"\n",
    "    A function that splits train data and validate data with given ratio\n",
    "    \n",
    "    @param x: The list of x.\n",
    "    @param y: The list of y.\n",
    "    @param train_percentage: The total train data's percentage. 0.8 for 80%\n",
    "    @return: tuple in train_x, train_y, validate_x, validate_y\n",
    "    \"\"\"\n",
    "    all_data = [i for i in range(len(x))]\n",
    "    selected = list()\n",
    "    for i in range(int(train_percentage * len(x))):\n",
    "        choice = random.choice(all_data)\n",
    "        selected.append(choice)\n",
    "        all_data.remove(choice)\n",
    "    \n",
    "    print(\"Total Train : \" + str(len(selected)) + \" / Total Validation : \" + str(len(all_data)))\n",
    "    \n",
    "    train_x = [x[i] for i in selected]\n",
    "    train_y = [y[i] for i in selected]\n",
    "    validate_x = [x[i] for i in all_data]\n",
    "    validate_y = [y[i] for i in all_data]\n",
    "    \n",
    "    return train_x, train_y, validate_x, validate_y"
   ]
  },
  {
   "cell_type": "code",
   "execution_count": 4,
   "id": "c862961b",
   "metadata": {},
   "outputs": [],
   "source": [
    "class ActivationFunction:\n",
    "    \"\"\"\n",
    "    A class that includes all methods for activation functions.\n",
    "    \"\"\"\n",
    "    def sigmoid(x):\n",
    "        \"\"\"\n",
    "        The sigmoid function.\n",
    "        @param x: The x value to calculate sigmoid\n",
    "        @return: sigmoid(x) value\n",
    "        \"\"\"\n",
    "        return 1/(1 + np.exp(-x))\n",
    "    def relu(x):\n",
    "        \"\"\"\n",
    "        The ReLU function.\n",
    "        @param x: The x value to calculate ReLU\n",
    "        @return: ReLU(x) value        \n",
    "        \"\"\"\n",
    "        return np.maximum(0, x)\n",
    "    def linear(x):\n",
    "        \"\"\"\n",
    "        The identity function.\n",
    "        @param x: The x value to calculate identity\n",
    "        @return: x value     \n",
    "        \"\"\"\n",
    "        return x\n",
    "    def tanh(x):\n",
    "        \"\"\"\n",
    "        The tanh function.\n",
    "        @param x: The x value to calculate tanh\n",
    "        @return: tanh(x)  \n",
    "        \"\"\"\n",
    "        return np.tanh(x)\n",
    "    \n",
    "    \n",
    "class ActivationFunctionDerivative:\n",
    "    \"\"\"\n",
    "    A class that includes all methods for derivative of activiation functions.\n",
    "    \"\"\"\n",
    "    def sigmoid(x):\n",
    "        \"\"\"\n",
    "        The derivative of sigmoid function.\n",
    "        @param x: The x value to calculate derivative sigmoid\n",
    "        @return: derivative of sigmoid(x) value\n",
    "        \"\"\"\n",
    "        return ActivationFunction.sigmoid(x) * (1 - ActivationFunction.sigmoid(x))\n",
    "    def relu(x):\n",
    "        \"\"\"\n",
    "        The derivative of ReLU function.\n",
    "        @param x: The x value to calculate derivative ReLU\n",
    "        @return: derivative of ReLU(x) value\n",
    "        \"\"\"\n",
    "        if x > 0:\n",
    "            return 1\n",
    "        else:\n",
    "            return 0\n",
    "    def linear(x):\n",
    "        \"\"\"\n",
    "        The derivative of linear function.\n",
    "        @param x: The x value to calculate derivative linear\n",
    "        @return: derivative of linear(x) value\n",
    "        \"\"\"\n",
    "        return 1\n",
    "    def tanh(x):\n",
    "        \"\"\"\n",
    "        The derivative of tanh function.\n",
    "        @param x: The x value to calculate derivative tanh\n",
    "        @return: derivative of tanh(x) value\n",
    "        \"\"\"\n",
    "        return 1 - (np.tanh(x)) ** 2"
   ]
  },
  {
   "cell_type": "code",
   "execution_count": 6,
   "id": "ceefc27b",
   "metadata": {},
   "outputs": [],
   "source": [
    "class Node:\n",
    "    \"\"\"\n",
    "    A class that defines and implements a node (perceptron)\n",
    "    \"\"\"\n",
    "    def __init__(self, activation_function, layer_count, node_count):\n",
    "        \"\"\"\n",
    "        Intializer method for class Node.\n",
    "        @param activiation_function: The type of activiation function.\n",
    "        @param layer_count: Which layer this node is residing in.\n",
    "        @param node_count: Which index is this node located at from the layer.\n",
    "        \"\"\"\n",
    "        self.activation = None\n",
    "        self.activiation_derivative = None\n",
    "        self.z = 0\n",
    "        self.h = 0\n",
    "        self.layer_count = layer_count\n",
    "        self.node_count = node_count\n",
    "        self.weights = list()\n",
    "\n",
    "        try:  # Set activation function.\n",
    "            self.activation = eval(\"ActivationFunction.\" + activation_function)\n",
    "            self.activiation_derivative = eval(\"ActivationFunctionDerivative.\" + activation_function)\n",
    "        except AttributeError:\n",
    "            print(\"[ERROR] Invalid Activation function : \" + activation_function)\n",
    "            raise ValueError \n",
    "\n",
    "    def get_derivative_z(self):\n",
    "        \"\"\"\n",
    "        A method that calculates derivative of this node and inputs z.\n",
    "        This is for calculating backpropagation.\n",
    "        \"\"\"\n",
    "        return self.activiation_derivative(self.z)        \n",
    "    \n",
    "    def calc_h(self):\n",
    "        \"\"\"\n",
    "        A method that calculates h of current node.\n",
    "        This is for calculating forward propagation.\n",
    "        \"\"\"\n",
    "        self.h = self.activation(self.z)\n",
    "    \n",
    "    def __repr__(self):\n",
    "        \"\"\"\n",
    "        A __repr__ method for class Node.\n",
    "        @return: The node information.\n",
    "        \"\"\" \n",
    "        ret = \"Node \" + str(self.node_count) + \" at Layer : \" + str(self.layer_count)\n",
    "        #ret += \"\\nz: \" + str(self.z) + \" / h: \" + str(self.h)\n",
    "        return ret"
   ]
  },
  {
   "cell_type": "code",
   "execution_count": 7,
   "id": "8c52df67",
   "metadata": {},
   "outputs": [],
   "source": [
    "class Weight:\n",
    "    \"\"\"\n",
    "    A class that defines and implementes a weight.\n",
    "    \"\"\"\n",
    "    def __init__(self, from_node, to_node):\n",
    "        \"\"\"\n",
    "        Initializer method for class Weight\n",
    "        @param from_node: The node that this weight is coming from.\n",
    "        @param to_node: The node that this weight is heading into.\n",
    "        \"\"\"\n",
    "        self.from_node = from_node\n",
    "        self.to_node = to_node\n",
    "        self.value = random.random()  # Initialize random weight\n",
    "        #self.value = 1  # Fix it 1\n",
    "    \n",
    "    def __repr__(self):\n",
    "        \"\"\"\n",
    "        A __repr__ method for class Weight.\n",
    "        @return: The weight information.\n",
    "        \"\"\"\n",
    "        return \"Weight : \" + str(self.from_node.layer_count) + \"'s \" + str(self.from_node.node_count) + \" -> \" + str(self.to_node.layer_count) + \"'s \" + str(self.to_node.node_count) + \"\\nValue: \" + str(self.value) "
   ]
  },
  {
   "cell_type": "code",
   "execution_count": 8,
   "id": "b22f5355",
   "metadata": {},
   "outputs": [],
   "source": [
    "class Layer:\n",
    "    \"\"\"\n",
    "    A class that defines and implements a layer.\n",
    "    \"\"\"\n",
    "    def __init__(self, layer_index, nodes, activiation, is_output_layer):\n",
    "        \"\"\"\n",
    "        Initializer method for class Layer.\n",
    "        @param layer_index: The current layer's index.\n",
    "        @param nodes: The list of nodes that this layer will be getting.\n",
    "        @param activiation: The activation function of this layer.\n",
    "        @param is_output_layer: Whether or not this layer is the output layer.\n",
    "        \"\"\"\n",
    "        self.activation = activiation\n",
    "        self.nodes = nodes\n",
    "        self.weights = list()\n",
    "        self.layer_index = layer_index\n",
    "        self.is_output_layer = is_output_layer\n",
    "        \n",
    "        if not is_output_layer:\n",
    "            bias = Node(\"linear\", layer_index, \"bias\")\n",
    "            bias.h = 1\n",
    "            self.nodes.append(bias)\n",
    "        \n",
    "    def set_weights(self, weights):\n",
    "        \"\"\"\n",
    "        A method that sets weights\n",
    "        @param weights: The list object of Weights.\n",
    "        \"\"\"\n",
    "        self.weights = weights\n",
    "        \n",
    "    def __repr__(self):\n",
    "        \"\"\"\n",
    "        A __repr__ method for class Layer.\n",
    "        @return: The layer information.\n",
    "        \"\"\"\n",
    "        ret = \"===== Layer \" + str(self.layer_index) + \" =====\\n\"\n",
    "        ret += \"Activiation: \" + str(self.activation) + \"\\n\"\n",
    "        ret += \"Node Count (Including Bias): \" + str(len(self.nodes)) + \"\\n\"\n",
    "        ret += \"Weight Count: \" + str(len(self.weights)) +\"\\n\"\n",
    "        if self.is_output_layer:\n",
    "            ret += \"===== Output =====\"\n",
    "        return ret"
   ]
  },
  {
   "cell_type": "code",
   "execution_count": 14,
   "id": "9f720390",
   "metadata": {},
   "outputs": [],
   "source": [
    "class Network:\n",
    "    \"\"\"\n",
    "    A class that defines and implements a network.\n",
    "    \"\"\"\n",
    "    def __init__(self, layer_node_counts, layer_activiation_functions):\n",
    "        \"\"\"\n",
    "        Initializer method for class Network.\n",
    "        @param layer_node_counts: The tuple including each layer's perceptron counts.\n",
    "        @param layer_activiation_functions: The tuple including each layer's activiation functions.\n",
    "        \"\"\"\n",
    "        if (len(layer_node_counts) != len(layer_activiation_functions)):\n",
    "            print(\"[ERROR] Layer information mismatch.\")\n",
    "            raise ValueError\n",
    "            \n",
    "        self.layers = list()\n",
    "        self.min = 0\n",
    "        self.max = 0 \n",
    "        self.mid = 0\n",
    "        layer_count = 0\n",
    "        # Generate Layers.\n",
    "        for node_count, activiation_function in zip(layer_node_counts, layer_activiation_functions):\n",
    "            tmp_nodes = list()\n",
    "            for i in range(node_count):\n",
    "                new_node = Node(activiation_function, layer_count + 1, i)\n",
    "                tmp_nodes.append(new_node)\n",
    "            self.layers.append(Layer(layer_count + 1, tmp_nodes, activiation_function, layer_count == len(layer_node_counts) - 1))\n",
    "            layer_count += 1\n",
    "        \n",
    "        # Generate Weights.\n",
    "        for i in range(len(layer_node_counts) - 1):\n",
    "            tmp_weight_list = list()\n",
    "            for from_node in self.layers[i].nodes:  # For all from -> to nodes, make a weight, exclude bias nodes.\n",
    "                for to_node in self.layers[i + 1].nodes:  # Don't connect weight to the next level's bias\n",
    "                    if to_node.node_count == \"bias\":\n",
    "                        continue\n",
    "                    new_weight = Weight(from_node, to_node)\n",
    "                    tmp_weight_list.append(new_weight)\n",
    "                    from_node.weights.append(new_weight)\n",
    "            self.layers[i].set_weights(tmp_weight_list)\n",
    "    \n",
    "    def _forward_propagate(self, x):\n",
    "        \"\"\"\n",
    "        A method that forward propagates.\n",
    "        This will set all values of z and h in all nodes.\n",
    "        Everytime this function is called, this will reset previous z and h value.\n",
    "        \n",
    "        @param x: The x value to forward propgate.\n",
    "        \"\"\"        \n",
    "        self.layers[0].nodes[0].h = x  # Set input as x\n",
    "        \n",
    "        # Before setting new values, clear before z and h.\n",
    "        for layer in self.layers[1:]:  # Start from 2nd layer.\n",
    "            for node in layer.nodes: \n",
    "                if node.node_count == \"bias\":  # If this was bias, keep it.\n",
    "                    continue\n",
    "                else:  # If not, set it 0.\n",
    "                    node.h = 0\n",
    "                    node.z = 0\n",
    "        \n",
    "        for layer in self.layers: # For all layers, forward propagate.\n",
    "            for node in layer.nodes:  # Grab nodes from layers.\n",
    "                if layer.layer_index != 1 and node.node_count != \"bias\":   # If current node was not the input layer or it was not bias, calculate h.\n",
    "                    node.calc_h()\n",
    "                for weight in node.weights:  # Calculate each weight * h value. \n",
    "                    target_node = weight.to_node\n",
    "                    target_node.z += node.h * weight.value\n",
    "                    #print(\"Adding \" + str(node.h * weight.value) + \" to \" + str(target_node))\n",
    "                \n",
    "    def _r_get_chain_rules(self, this_node, indent):\n",
    "        \"\"\"\n",
    "        A method that gets chain rules in recursive way.\n",
    "        This will generate all chain rule values in a DFS way.\n",
    "        \n",
    "        @param this_node: The node that this current recursive function is visiting.\n",
    "        @param indent: For debug usage. Do not use this argument.\n",
    "        \"\"\"\n",
    "        if len(this_node.weights) == 0:\n",
    "            return 1\n",
    "        else:\n",
    "            tmp = 0\n",
    "            for weight in this_node.weights:\n",
    "                tmp += self._r_get_chain_rules(weight.to_node, indent + 1) * weight.value  # Do recursion.\n",
    "            return tmp * this_node.get_derivative_z()\n",
    "    \n",
    "    def _back_propagate(self, x, y, learning_rate):\n",
    "        \"\"\"\n",
    "        A method that backpropagates.\n",
    "        This will call _forward_propagate internally and then backpropagate with using GD as its optimizer.\n",
    "        \n",
    "        @param x: The x value to input.\n",
    "        @param y: The y value as output.\n",
    "        @param learning_rate: The learning rate to be used when backpropagating.\n",
    "        \"\"\"\n",
    "        self._forward_propagate(x)\n",
    "        self.layers[-1].nodes[0].calc_h()\n",
    "                \n",
    "        y_hat = self.layers[-1].nodes[0].z\n",
    "        for layer in self.layers:\n",
    "            for weight in layer.weights:\n",
    "                recursive_value = self._r_get_chain_rules(weight.to_node, 0)\n",
    "                weight.value = weight.value - learning_rate * (y_hat - y) * 1 * weight.from_node.h * recursive_value\n",
    "\n",
    "                \n",
    "    def predict(self, x):\n",
    "        \"\"\"\n",
    "        A function that predicts value from x.\n",
    "        This function will interally call _forward_propagate.\n",
    "        Then will return value of z in the last output node.\n",
    "        \n",
    "        @param x: The x value to predict.\n",
    "        @return: The valut that this model predicted.\n",
    "        \"\"\"\n",
    "        self._forward_propagate(x)\n",
    "        return self.layers[-1].nodes[0].z\n",
    "    \n",
    "    def fit(self, x_data, y_data, epoch, learning_rate):\n",
    "        \"\"\"\n",
    "        A method that fits our model into the data.\n",
    "        \n",
    "        @param x_data: tuple object that includes x data.\n",
    "        @param y_data: tuple object that includes y data.\n",
    "        @param epoch: Total count of epochs to iterate.\n",
    "        @param learning_rate: The learning rate to be used when backpropagating.\n",
    "        \"\"\"\n",
    "        self.max_y = max(y_data)\n",
    "        self.min_y = min(y_data)\n",
    "        self.mid = (self.max_y + self.min_y) / 2\n",
    "        \n",
    "        for i in range(epoch):\n",
    "            for x, y in zip(x_data, y_data):\n",
    "                self._back_propagate(x, y, learning_rate)\n",
    "            print(\"Epoch \" + str(i) + \" | \" + str(epoch) + \" / Training Loss : \" + str(self.get_cost(x_data, y_data)))\n",
    "\n",
    "    \n",
    "    def get_cost(self, x_data, y_data):\n",
    "        \"\"\"\n",
    "        A method that calculates MSE value with given dataset.\n",
    "        \n",
    "        @param x_data: tuple object that includes x data.\n",
    "        @param y_data: tuple object that includes y data. \n",
    "        @return: The MSE value of the model.\n",
    "        \"\"\"\n",
    "        total = 0\n",
    "        for x, y in zip(x_data, y_data):\n",
    "            y_hat = self.predict(x)\n",
    "            total += (y_hat - y) ** 2\n",
    "        return total / 2\n",
    "    \n",
    "    def __repr__(self):\n",
    "        \"\"\"\n",
    "        A __repr__ method for class Network. \n",
    "        \n",
    "        @return: The network information\n",
    "        \"\"\"\n",
    "        ret = \"\"\n",
    "        for layer in self.layers:\n",
    "            ret += str(layer)\n",
    "        return ret"
   ]
  },
  {
   "cell_type": "code",
   "execution_count": 17,
   "id": "81467e40",
   "metadata": {},
   "outputs": [
    {
     "name": "stdout",
     "output_type": "stream",
     "text": [
      "Total Train : 4000 / Total Validation : 1000\n"
     ]
    }
   ],
   "source": [
    "import pandas as pd\n",
    "df = pd.read_csv(\"hw3_data.csv\")\n",
    "\n",
    "y = list(df.y)\n",
    "x = list(df.x)\n",
    "\n",
    "train_x, train_y, validate_x, validate_y = train_validate_split(x, y, 0.8)"
   ]
  },
  {
   "cell_type": "markdown",
   "id": "ec6dcba4",
   "metadata": {},
   "source": [
    "## Normal Fit with single Sigmoid"
   ]
  },
  {
   "cell_type": "code",
   "execution_count": 18,
   "id": "1c85c909",
   "metadata": {},
   "outputs": [],
   "source": [
    "n1 = Network((1,2,1), ('linear', 'sigmoid', 'linear'))"
   ]
  },
  {
   "cell_type": "code",
   "execution_count": 19,
   "id": "30f49c44",
   "metadata": {},
   "outputs": [
    {
     "data": {
      "text/plain": [
       "===== Layer 1 =====\n",
       "Activiation: linear\n",
       "Node Count (Including Bias): 2\n",
       "Weight Count: 4\n",
       "===== Layer 2 =====\n",
       "Activiation: sigmoid\n",
       "Node Count (Including Bias): 3\n",
       "Weight Count: 3\n",
       "===== Layer 3 =====\n",
       "Activiation: linear\n",
       "Node Count (Including Bias): 1\n",
       "Weight Count: 0\n",
       "===== Output ====="
      ]
     },
     "execution_count": 19,
     "metadata": {},
     "output_type": "execute_result"
    }
   ],
   "source": [
    "n1"
   ]
  },
  {
   "cell_type": "code",
   "execution_count": 20,
   "id": "99a3b999",
   "metadata": {},
   "outputs": [
    {
     "name": "stdout",
     "output_type": "stream",
     "text": [
      "Epoch 0 | 10 / Training Loss : 6.056653080994851e+02\n",
      "Epoch 1 | 10 / Training Loss : 5.254607179252558e+02\n",
      "Epoch 2 | 10 / Training Loss : 4.975042169655134e+02\n",
      "Epoch 3 | 10 / Training Loss : 4.636989838836882e+02\n",
      "Epoch 4 | 10 / Training Loss : 4.2164048489411016e+02\n",
      "Epoch 5 | 10 / Training Loss : 3.756166273890967e+02\n",
      "Epoch 6 | 10 / Training Loss : 3.332303765747995e+02\n",
      "Epoch 7 | 10 / Training Loss : 3.11146985127094e+02\n",
      "Epoch 8 | 10 / Training Loss : 3.123465111127894e+02\n",
      "Epoch 9 | 10 / Training Loss : 3.188713945954729e+02\n"
     ]
    }
   ],
   "source": [
    "n1.fit(x, y, 10, 0.01)"
   ]
  },
  {
   "cell_type": "code",
   "execution_count": 26,
   "id": "16f916ae",
   "metadata": {},
   "outputs": [
    {
     "name": "stderr",
     "output_type": "stream",
     "text": [
      "The PostScript backend does not support transparency; partially transparent artists will be rendered opaque.\n"
     ]
    },
    {
     "name": "stdout",
     "output_type": "stream",
     "text": [
      "Validate Loss: 6.387521847234315e+01\n"
     ]
    },
    {
     "data": {
      "image/png": "[encoded data removed]",
      "text/plain": [
       "<Figure size 432x288 with 1 Axes>"
      ]
     },
     "metadata": {
      "needs_background": "light"
     },
     "output_type": "display_data"
    }
   ],
   "source": [
    "predicted = list()\n",
    "for i in x:\n",
    "    predicted.append(n1.predict(i))\n",
    "    \n",
    "import matplotlib.pyplot as plt\n",
    "\n",
    "plt.scatter(df.x, df.y, label='real', s=10)\n",
    "plt.scatter(df.x, predicted, label='predicted', s=10)\n",
    "plt.title(\"Predicted and Real Data\")\n",
    "plt.legend()\n",
    "plt.xlabel(\"X\")\n",
    "plt.ylabel(\"Y\")\n",
    "plt.savefig('multi_layer_demo_1.eps')\n",
    "\n",
    "print(\"Validate Loss: \" + str(n1.get_cost(validate_x, validate_y)))"
   ]
  },
  {
   "cell_type": "markdown",
   "id": "abb6a398",
   "metadata": {},
   "source": [
    "## Lucky overfitting 2\n",
    "This is very lucky case. There are potential of not being reproduced again."
   ]
  },
  {
   "cell_type": "code",
   "execution_count": 81,
   "id": "a8d36960",
   "metadata": {},
   "outputs": [],
   "source": [
    "activations = ['linear']\n",
    "for i in range(2):\n",
    "    activations.append('sigmoid')\n",
    "for i in range(2):\n",
    "    activations.append('linear')\n",
    "activations.append('linear')"
   ]
  },
  {
   "cell_type": "code",
   "execution_count": 82,
   "id": "cba9b300",
   "metadata": {},
   "outputs": [],
   "source": [
    "n3 = Network([3 for x in range(6)], activations)"
   ]
  },
  {
   "cell_type": "code",
   "execution_count": 83,
   "id": "cf713ad5",
   "metadata": {
    "scrolled": true
   },
   "outputs": [
    {
     "name": "stdout",
     "output_type": "stream",
     "text": [
      "Epoch 0 | 50 / Training Loss : 7.035221442037986e+02\n",
      "Epoch 1 | 50 / Training Loss : 6.120955790815285e+02\n",
      "Epoch 2 | 50 / Training Loss : 5.39578960814537e+02\n",
      "Epoch 3 | 50 / Training Loss : 4.946254597188518e+02\n",
      "Epoch 4 | 50 / Training Loss : 4.7066170825200277e+02\n",
      "Epoch 5 | 50 / Training Loss : 4.5727995358846374e+02\n",
      "Epoch 6 | 50 / Training Loss : 4.479763285015599e+02\n",
      "Epoch 7 | 50 / Training Loss : 4.400320132270548e+02\n",
      "Epoch 8 | 50 / Training Loss : 4.3237087982084165e+02\n",
      "Epoch 9 | 50 / Training Loss : 4.2429491588859327e+02\n",
      "Epoch 10 | 50 / Training Loss : 4.1524975811114354e+02\n",
      "Epoch 11 | 50 / Training Loss : 4.053496435271982e+02\n",
      "Epoch 12 | 50 / Training Loss : 3.959922616108687e+02\n",
      "Epoch 13 | 50 / Training Loss : 3.8960267138547374e+02\n",
      "Epoch 14 | 50 / Training Loss : 3.880510960307237e+02\n",
      "Epoch 15 | 50 / Training Loss : 3.9017863187860934e+02\n",
      "Epoch 16 | 50 / Training Loss : 3.910903935795193e+02\n",
      "Epoch 17 | 50 / Training Loss : 3.854872831996595e+02\n",
      "Epoch 18 | 50 / Training Loss : 3.711059862972045e+02\n",
      "Epoch 19 | 50 / Training Loss : 3.485276496281727e+02\n",
      "Epoch 20 | 50 / Training Loss : 3.194422219384119e+02\n",
      "Epoch 21 | 50 / Training Loss : 2.858466422524523e+02\n",
      "Epoch 22 | 50 / Training Loss : 2.5004714010906386e+02\n",
      "Epoch 23 | 50 / Training Loss : 2.145063324927421e+02\n",
      "Epoch 24 | 50 / Training Loss : 1.8130893683664956e+02\n",
      "Epoch 25 | 50 / Training Loss : 1.5178851099662248e+02\n",
      "Epoch 26 | 50 / Training Loss : 1.265218119430371e+02\n",
      "Epoch 27 | 50 / Training Loss : 1.0552331591202282e+02\n",
      "Epoch 28 | 50 / Training Loss : 8.842650161156138e+01\n",
      "Epoch 29 | 50 / Training Loss : 7.462432424912693e+01\n",
      "Epoch 30 | 50 / Training Loss : 6.344632331150729e+01\n",
      "Epoch 31 | 50 / Training Loss : 5.4295429084486244e+01\n",
      "Epoch 32 | 50 / Training Loss : 4.668414596105936e+01\n",
      "Epoch 33 | 50 / Training Loss : 4.023888621983793e+01\n",
      "Epoch 34 | 50 / Training Loss : 3.469841644183004e+01\n",
      "Epoch 35 | 50 / Training Loss : 2.9879421440615925e+01\n",
      "Epoch 36 | 50 / Training Loss : 2.564529926091957e+01\n",
      "Epoch 37 | 50 / Training Loss : 2.1923115838940376e+01\n",
      "Epoch 38 | 50 / Training Loss : 1.8740510722820037e+01\n",
      "Epoch 39 | 50 / Training Loss : 1.6134433598235756e+01\n",
      "Epoch 40 | 50 / Training Loss : 1.4031712149856698e+01\n",
      "Epoch 41 | 50 / Training Loss : 1.2293745869915941e+01\n",
      "Epoch 42 | 50 / Training Loss : 1.0814071350297372e+01\n",
      "Epoch 43 | 50 / Training Loss : 9.5416797173097e+00\n",
      "Epoch 44 | 50 / Training Loss : 8.462663947670947e+00\n",
      "Epoch 45 | 50 / Training Loss : 7.5754785310355155e+00\n",
      "Epoch 46 | 50 / Training Loss : 6.851754975289115e+00\n",
      "Epoch 47 | 50 / Training Loss : 6.252401243312281e+00\n",
      "Epoch 48 | 50 / Training Loss : 5.749910646683167e+00\n",
      "Epoch 49 | 50 / Training Loss : 5.325708318883336e+00\n"
     ]
    }
   ],
   "source": [
    "n3.fit(train_x, train_y, 50, 0.001)"
   ]
  },
  {
   "cell_type": "code",
   "execution_count": 87,
   "id": "df187db8",
   "metadata": {},
   "outputs": [
    {
     "name": "stderr",
     "output_type": "stream",
     "text": [
      "The PostScript backend does not support transparency; partially transparent artists will be rendered opaque.\n"
     ]
    },
    {
     "name": "stdout",
     "output_type": "stream",
     "text": [
      "Validate Loss: 1.3008706617533703e+00\n"
     ]
    },
    {
     "data": {
      "image/png": "[encoded data removed]",
      "text/plain": [
       "<Figure size 432x288 with 1 Axes>"
      ]
     },
     "metadata": {
      "needs_background": "light"
     },
     "output_type": "display_data"
    }
   ],
   "source": [
    "predicted = list()\n",
    "for i in x:\n",
    "    predicted.append(n3.predict(i))\n",
    "    \n",
    "import matplotlib.pyplot as plt\n",
    "\n",
    "plt.scatter(df.x, df.y, label='real', s=10)\n",
    "plt.scatter(df.x, predicted, label='predicted', s=10)\n",
    "plt.title(\"Predicted and Real Data\")\n",
    "plt.legend()\n",
    "plt.xlabel(\"X\")\n",
    "plt.ylabel(\"Y\")\n",
    "plt.savefig('multilayer_overfitted_new.eps')\n",
    "print(\"Validate Loss: \" + str(n3.get_cost(validate_x, validate_y)))"
   ]
  },
  {
   "cell_type": "markdown",
   "id": "f63f30b5",
   "metadata": {},
   "source": [
    "## Failure\n",
    "Due to too many layers"
   ]
  },
  {
   "cell_type": "code",
   "execution_count": 27,
   "id": "b2e5ced7",
   "metadata": {},
   "outputs": [],
   "source": [
    "activations = ['linear']\n",
    "for i in range(6):\n",
    "    activations.append('sigmoid')\n",
    "for i in range(2):\n",
    "    activations.append('linear')\n",
    "activations.append('linear')"
   ]
  },
  {
   "cell_type": "code",
   "execution_count": 28,
   "id": "ffb30cd5",
   "metadata": {},
   "outputs": [],
   "source": [
    "n2 = Network([1 for x in range(10)], activations)"
   ]
  },
  {
   "cell_type": "code",
   "execution_count": 29,
   "id": "7e6885d9",
   "metadata": {
    "scrolled": true
   },
   "outputs": [
    {
     "name": "stdout",
     "output_type": "stream",
     "text": [
      "Epoch 0 | 50 / Training Loss : 2.808521618246649e+03\n",
      "Epoch 1 | 50 / Training Loss : 2.8078127449033764e+03\n",
      "Epoch 2 | 50 / Training Loss : 2.807106622095134e+03\n",
      "Epoch 3 | 50 / Training Loss : 2.806403092900071e+03\n",
      "Epoch 4 | 50 / Training Loss : 2.805702013452452e+03\n",
      "Epoch 5 | 50 / Training Loss : 2.8050032518493176e+03\n",
      "Epoch 6 | 50 / Training Loss : 2.804306687157531e+03\n",
      "Epoch 7 | 50 / Training Loss : 2.8036122085111306e+03\n",
      "Epoch 8 | 50 / Training Loss : 2.802919714290056e+03\n",
      "Epoch 9 | 50 / Training Loss : 2.802229111372349e+03\n",
      "Epoch 10 | 50 / Training Loss : 2.8015403144526604e+03\n",
      "Epoch 11 | 50 / Training Loss : 2.800853245420593e+03\n",
      "Epoch 12 | 50 / Training Loss : 2.8001678327933223e+03\n",
      "Epoch 13 | 50 / Training Loss : 2.7994840111973235e+03\n",
      "Epoch 14 | 50 / Training Loss : 2.7988017208944084e+03\n",
      "Epoch 15 | 50 / Training Loss : 2.798120907348264e+03\n",
      "Epoch 16 | 50 / Training Loss : 2.7974415208274368e+03\n",
      "Epoch 17 | 50 / Training Loss : 2.796763516041642e+03\n",
      "Epoch 18 | 50 / Training Loss : 2.796086851808299e+03\n",
      "Epoch 19 | 50 / Training Loss : 2.795411490746481e+03\n",
      "Epoch 20 | 50 / Training Loss : 2.794737398996066e+03\n",
      "Epoch 21 | 50 / Training Loss : 2.7940645459594234e+03\n",
      "Epoch 22 | 50 / Training Loss : 2.793392904064276e+03\n",
      "Epoch 23 | 50 / Training Loss : 2.792722448545199e+03\n",
      "Epoch 24 | 50 / Training Loss : 2.7920531572426976e+03\n",
      "Epoch 25 | 50 / Training Loss : 2.7913850104180224e+03\n",
      "Epoch 26 | 50 / Training Loss : 2.7907179905825255e+03\n",
      "Epoch 27 | 50 / Training Loss : 2.790052082340261e+03\n",
      "Epoch 28 | 50 / Training Loss : 2.78938727224274e+03\n",
      "Epoch 29 | 50 / Training Loss : 2.7887235486549366e+03\n",
      "Epoch 30 | 50 / Training Loss : 2.7880609016312555e+03\n",
      "Epoch 31 | 50 / Training Loss : 2.787399322801206e+03\n",
      "Epoch 32 | 50 / Training Loss : 2.786738805263408e+03\n",
      "Epoch 33 | 50 / Training Loss : 2.7860793434877255e+03\n",
      "Epoch 34 | 50 / Training Loss : 2.785420933224554e+03\n",
      "Epoch 35 | 50 / Training Loss : 2.7847635714208413e+03\n",
      "Epoch 36 | 50 / Training Loss : 2.7841072561424016e+03\n",
      "Epoch 37 | 50 / Training Loss : 2.783451986501651e+03\n",
      "Epoch 38 | 50 / Training Loss : 2.7827977625909625e+03\n",
      "Epoch 39 | 50 / Training Loss : 2.782144585420487e+03\n",
      "Epoch 40 | 50 / Training Loss : 2.78149245686074e+03\n",
      "Epoch 41 | 50 / Training Loss : 2.7808413795891765e+03\n",
      "Epoch 42 | 50 / Training Loss : 2.7801913570406396e+03\n",
      "Epoch 43 | 50 / Training Loss : 2.779542393361265e+03\n",
      "Epoch 44 | 50 / Training Loss : 2.778894493365844e+03\n",
      "Epoch 45 | 50 / Training Loss : 2.778247662498007e+03\n",
      "Epoch 46 | 50 / Training Loss : 2.7776019067933844e+03\n",
      "Epoch 47 | 50 / Training Loss : 2.7769572328452746e+03\n",
      "Epoch 48 | 50 / Training Loss : 2.776313647772845e+03\n",
      "Epoch 49 | 50 / Training Loss : 2.7756711591914527e+03\n"
     ]
    }
   ],
   "source": [
    "n2.fit(train_x, train_y, 50, 0.001)"
   ]
  },
  {
   "cell_type": "code",
   "execution_count": 92,
   "id": "8bcf106b",
   "metadata": {},
   "outputs": [
    {
     "name": "stderr",
     "output_type": "stream",
     "text": [
      "The PostScript backend does not support transparency; partially transparent artists will be rendered opaque.\n"
     ]
    },
    {
     "name": "stdout",
     "output_type": "stream",
     "text": [
      "Validate Loss: 7.237969180951641e+02\n"
     ]
    },
    {
     "data": {
      "image/png": "[encoded data removed]",
      "text/plain": [
       "<Figure size 432x288 with 1 Axes>"
      ]
     },
     "metadata": {
      "needs_background": "light"
     },
     "output_type": "display_data"
    }
   ],
   "source": [
    "predicted = list()\n",
    "for i in x:\n",
    "    predicted.append(n2.predict(i))\n",
    "    \n",
    "import matplotlib.pyplot as plt\n",
    "\n",
    "plt.scatter(df.x, df.y, label='real', s=10)\n",
    "plt.scatter(df.x, predicted, label='predicted', s=10)\n",
    "plt.title(\"Predicted and Real Data\")\n",
    "plt.legend()\n",
    "plt.xlabel(\"X\")\n",
    "plt.ylabel(\"Y\")\n",
    "plt.savefig('multilayer_failure_1.eps')\n",
    "print(\"Validate Loss: \" + str(n2.get_cost(validate_x, validate_y)))"
   ]
  },
  {
   "cell_type": "markdown",
   "id": "1ec94dbc",
   "metadata": {},
   "source": [
    "# Normal Case\n",
    "Falling into local minimum"
   ]
  },
  {
   "cell_type": "code",
   "execution_count": 88,
   "id": "db9532b2",
   "metadata": {},
   "outputs": [],
   "source": [
    "activations = ['linear']\n",
    "for i in range(2):\n",
    "    activations.append('sigmoid')\n",
    "for i in range(1):\n",
    "    activations.append('linear')\n",
    "activations.append('linear')"
   ]
  },
  {
   "cell_type": "code",
   "execution_count": 89,
   "id": "82745ebf",
   "metadata": {},
   "outputs": [],
   "source": [
    "n4 = Network((5, 5, 5, 5, 1), activations)"
   ]
  },
  {
   "cell_type": "code",
   "execution_count": 91,
   "id": "ab21183f",
   "metadata": {
    "scrolled": true
   },
   "outputs": [
    {
     "name": "stdout",
     "output_type": "stream",
     "text": [
      "Epoch 0 | 50 / Training Loss : 6.052081632123875e+02\n",
      "Epoch 1 | 50 / Training Loss : 5.771055684282235e+02\n",
      "Epoch 2 | 50 / Training Loss : 5.62290040407965e+02\n",
      "Epoch 3 | 50 / Training Loss : 5.50085018808041e+02\n",
      "Epoch 4 | 50 / Training Loss : 5.412652601304679e+02\n",
      "Epoch 5 | 50 / Training Loss : 5.346223975168834e+02\n",
      "Epoch 6 | 50 / Training Loss : 5.292969817596002e+02\n",
      "Epoch 7 | 50 / Training Loss : 5.248042391811053e+02\n",
      "Epoch 8 | 50 / Training Loss : 5.208657719090056e+02\n",
      "Epoch 9 | 50 / Training Loss : 5.173135677765886e+02\n",
      "Epoch 10 | 50 / Training Loss : 5.140421249590195e+02\n",
      "Epoch 11 | 50 / Training Loss : 5.109829735371006e+02\n",
      "Epoch 12 | 50 / Training Loss : 5.08089613268617e+02\n",
      "Epoch 13 | 50 / Training Loss : 5.053283233295613e+02\n",
      "Epoch 14 | 50 / Training Loss : 5.02673054246813e+02\n",
      "Epoch 15 | 50 / Training Loss : 5.0010307073070595e+02\n",
      "Epoch 16 | 50 / Training Loss : 4.9760204507807754e+02\n",
      "Epoch 17 | 50 / Training Loss : 4.9515765614618454e+02\n",
      "Epoch 18 | 50 / Training Loss : 4.9276123367361305e+02\n",
      "Epoch 19 | 50 / Training Loss : 4.904073133788286e+02\n",
      "Epoch 20 | 50 / Training Loss : 4.8809310564218595e+02\n",
      "Epoch 21 | 50 / Training Loss : 4.8581791746875035e+02\n",
      "Epoch 22 | 50 / Training Loss : 4.8358257092511764e+02\n",
      "Epoch 23 | 50 / Training Loss : 4.813888566179672e+02\n",
      "Epoch 24 | 50 / Training Loss : 4.792390524768533e+02\n",
      "Epoch 25 | 50 / Training Loss : 4.7713552645807795e+02\n",
      "Epoch 26 | 50 / Training Loss : 4.750804285367084e+02\n",
      "Epoch 27 | 50 / Training Loss : 4.730754652829756e+02\n",
      "Epoch 28 | 50 / Training Loss : 4.7112174179481116e+02\n",
      "Epoch 29 | 50 / Training Loss : 4.692196520712897e+02\n",
      "Epoch 30 | 50 / Training Loss : 4.6736880061387734e+02\n",
      "Epoch 31 | 50 / Training Loss : 4.655679458906518e+02\n",
      "Epoch 32 | 50 / Training Loss : 4.638149722571989e+02\n",
      "Epoch 33 | 50 / Training Loss : 4.6210692425052764e+02\n",
      "Epoch 34 | 50 / Training Loss : 4.6044017695575366e+02\n",
      "Epoch 35 | 50 / Training Loss : 4.588108546607435e+02\n",
      "Epoch 36 | 50 / Training Loss : 4.572155919873416e+02\n",
      "Epoch 37 | 50 / Training Loss : 4.556525433949023e+02\n",
      "Epoch 38 | 50 / Training Loss : 4.541221179647531e+02\n",
      "Epoch 39 | 50 / Training Loss : 4.5262654923003066e+02\n",
      "Epoch 40 | 50 / Training Loss : 4.511678917654879e+02\n",
      "Epoch 41 | 50 / Training Loss : 4.4974550236233915e+02\n",
      "Epoch 42 | 50 / Training Loss : 4.4835480548240844e+02\n",
      "Epoch 43 | 50 / Training Loss : 4.4698784284594683e+02\n",
      "Epoch 44 | 50 / Training Loss : 4.456344671743822e+02\n",
      "Epoch 45 | 50 / Training Loss : 4.442829795213803e+02\n",
      "Epoch 46 | 50 / Training Loss : 4.4291987079658065e+02\n",
      "Epoch 47 | 50 / Training Loss : 4.4152883140154296e+02\n",
      "Epoch 48 | 50 / Training Loss : 4.4008916647168365e+02\n",
      "Epoch 49 | 50 / Training Loss : 4.385735521549358e+02\n"
     ]
    }
   ],
   "source": [
    "n4.fit(train_x, train_y, 50, 0.01)"
   ]
  },
  {
   "cell_type": "code",
   "execution_count": 95,
   "id": "8e3b6fae",
   "metadata": {},
   "outputs": [
    {
     "name": "stderr",
     "output_type": "stream",
     "text": [
      "The PostScript backend does not support transparency; partially transparent artists will be rendered opaque.\n"
     ]
    },
    {
     "name": "stdout",
     "output_type": "stream",
     "text": [
      "Validate Loss: 1.1327997824922382e+02\n"
     ]
    },
    {
     "data": {
      "image/png": "[encoded data removed]",
      "text/plain": [
       "<Figure size 432x288 with 1 Axes>"
      ]
     },
     "metadata": {
      "needs_background": "light"
     },
     "output_type": "display_data"
    }
   ],
   "source": [
    "predicted = list()\n",
    "for i in x:\n",
    "    predicted.append(n4.predict(i))\n",
    "    \n",
    "import matplotlib.pyplot as plt\n",
    "\n",
    "plt.scatter(df.x, df.y, label='real', s=10)\n",
    "plt.scatter(df.x, predicted, label='predicted', s=10)\n",
    "plt.title(\"Predicted and Real Data\")\n",
    "plt.legend()\n",
    "plt.xlabel(\"X\")\n",
    "plt.ylabel(\"Y\")\n",
    "plt.savefig('multilayer_failure_normal.eps')\n",
    "print(\"Validate Loss: \" + str(n4.get_cost(validate_x, validate_y)))"
   ]
  },
  {
   "cell_type": "markdown",
   "id": "b7fcda48",
   "metadata": {},
   "source": [
    "# Fine Tuning"
   ]
  },
  {
   "cell_type": "code",
   "execution_count": 185,
   "id": "5a2e6bec",
   "metadata": {},
   "outputs": [],
   "source": [
    "import copy\n",
    "n5 = copy.deepcopy(n4)"
   ]
  },
  {
   "cell_type": "code",
   "execution_count": 187,
   "id": "65f25a89",
   "metadata": {},
   "outputs": [
    {
     "name": "stdout",
     "output_type": "stream",
     "text": [
      "Epoch 0 / 10 / Loss : 3.254593954417345e+00\n",
      "Epoch 1 / 10 / Loss : 3.1261299497495614e+00\n",
      "Epoch 2 / 10 / Loss : 3.0220872834187125e+00\n",
      "Epoch 3 / 10 / Loss : 2.934679689454221e+00\n",
      "Epoch 4 / 10 / Loss : 2.8589679963181047e+00\n",
      "Epoch 5 / 10 / Loss : 2.7917187418172227e+00\n",
      "Epoch 6 / 10 / Loss : 2.730758318388614e+00\n",
      "Epoch 7 / 10 / Loss : 2.6745917762758156e+00\n",
      "Epoch 8 / 10 / Loss : 2.622170168448672e+00\n",
      "Epoch 9 / 10 / Loss : 2.572744370813474e+00\n"
     ]
    }
   ],
   "source": [
    "n5.fit(x, y, 10, 0.001)"
   ]
  },
  {
   "cell_type": "code",
   "execution_count": 189,
   "id": "eaadd0ae",
   "metadata": {},
   "outputs": [
    {
     "name": "stderr",
     "output_type": "stream",
     "text": [
      "The PostScript backend does not support transparency; partially transparent artists will be rendered opaque.\n"
     ]
    },
    {
     "data": {
      "image/png": "[encoded data removed]",
      "text/plain": [
       "<Figure size 432x288 with 1 Axes>"
      ]
     },
     "metadata": {
      "needs_background": "light"
     },
     "output_type": "display_data"
    }
   ],
   "source": [
    "predicted = list()\n",
    "for i in x:\n",
    "    predicted.append(n5.predict(i))\n",
    "    \n",
    "import matplotlib.pyplot as plt\n",
    "\n",
    "plt.scatter(df.x, df.y, label='real', s=10)\n",
    "plt.scatter(df.x, predicted, label='predicted', s=10)\n",
    "plt.title(\"Predicted and Real Data\")\n",
    "plt.legend()\n",
    "plt.xlabel(\"X\")\n",
    "plt.ylabel(\"Y\")\n",
    "plt.savefig('multilayer_overfit_case3.eps')"
   ]
  },
  {
   "cell_type": "code",
   "execution_count": 190,
   "id": "f0f52535",
   "metadata": {},
   "outputs": [
    {
     "name": "stdout",
     "output_type": "stream",
     "text": [
      "Epoch 0 / 10 / Loss : 2.525770857535687e+00\n",
      "Epoch 1 / 10 / Loss : 2.480849573639397e+00\n",
      "Epoch 2 / 10 / Loss : 2.4376821368441526e+00\n",
      "Epoch 3 / 10 / Loss : 2.3960432063560395e+00\n",
      "Epoch 4 / 10 / Loss : 2.3557605531503727e+00\n",
      "Epoch 5 / 10 / Loss : 2.3167009860414356e+00\n",
      "Epoch 6 / 10 / Loss : 2.2787602835533822e+00\n",
      "Epoch 7 / 10 / Loss : 2.2418559068817365e+00\n",
      "Epoch 8 / 10 / Loss : 2.205921669640721e+00\n",
      "Epoch 9 / 10 / Loss : 2.170903801153849e+00\n"
     ]
    }
   ],
   "source": [
    "import copy\n",
    "n6 = copy.deepcopy(n5)\n",
    "n6.fit(x, y, 10, 0.001)"
   ]
  },
  {
   "cell_type": "code",
   "execution_count": 192,
   "id": "93197423",
   "metadata": {},
   "outputs": [
    {
     "name": "stderr",
     "output_type": "stream",
     "text": [
      "The PostScript backend does not support transparency; partially transparent artists will be rendered opaque.\n"
     ]
    },
    {
     "data": {
      "image/png": "[encoded data removed]",
      "text/plain": [
       "<Figure size 432x288 with 1 Axes>"
      ]
     },
     "metadata": {
      "needs_background": "light"
     },
     "output_type": "display_data"
    }
   ],
   "source": [
    "predicted = list()\n",
    "for i in x:\n",
    "    predicted.append(n6.predict(i))\n",
    "    \n",
    "import matplotlib.pyplot as plt\n",
    "\n",
    "plt.scatter(df.x, df.y, label='real', s=10)\n",
    "plt.scatter(df.x, predicted, label='predicted', s=10)\n",
    "plt.title(\"Predicted and Real Data\")\n",
    "plt.legend()\n",
    "plt.xlabel(\"X\")\n",
    "plt.ylabel(\"Y\")\n",
    "plt.savefig('multilayer_overfit_case4.eps')"
   ]
  },
  {
   "cell_type": "code",
   "execution_count": 193,
   "id": "c48038e3",
   "metadata": {},
   "outputs": [
    {
     "name": "stdout",
     "output_type": "stream",
     "text": [
      "Epoch 0 / 10 / Loss : 2.1367580131045667e+00\n",
      "Epoch 1 / 10 / Loss : 2.1034472958594495e+00\n",
      "Epoch 2 / 10 / Loss : 2.070940250313533e+00\n",
      "Epoch 3 / 10 / Loss : 2.03920981612894e+00\n",
      "Epoch 4 / 10 / Loss : 2.008232295763155e+00\n",
      "Epoch 5 / 10 / Loss : 1.9779866009486395e+00\n",
      "Epoch 6 / 10 / Loss : 1.9484536677752722e+00\n",
      "Epoch 7 / 10 / Loss : 1.919616000571048e+00\n",
      "Epoch 8 / 10 / Loss : 1.8914573149725165e+00\n",
      "Epoch 9 / 10 / Loss : 1.8639622580132598e+00\n"
     ]
    }
   ],
   "source": [
    "import copy\n",
    "n7 = copy.deepcopy(n6)\n",
    "n7.fit(x, y, 10, 0.001)"
   ]
  },
  {
   "cell_type": "code",
   "execution_count": 195,
   "id": "b4c0aba3",
   "metadata": {},
   "outputs": [
    {
     "name": "stderr",
     "output_type": "stream",
     "text": [
      "The PostScript backend does not support transparency; partially transparent artists will be rendered opaque.\n"
     ]
    },
    {
     "data": {
      "image/png": "[encoded data removed]",
      "text/plain": [
       "<Figure size 432x288 with 1 Axes>"
      ]
     },
     "metadata": {
      "needs_background": "light"
     },
     "output_type": "display_data"
    }
   ],
   "source": [
    "predicted = list()\n",
    "for i in x:\n",
    "    predicted.append(n7.predict(i))\n",
    "    \n",
    "import matplotlib.pyplot as plt\n",
    "\n",
    "plt.scatter(df.x, df.y, label='real', s=10)\n",
    "plt.scatter(df.x, predicted, label='predicted', s=10)\n",
    "plt.title(\"Predicted and Real Data\")\n",
    "plt.legend()\n",
    "plt.xlabel(\"X\")\n",
    "plt.ylabel(\"Y\")\n",
    "plt.savefig('multilayer_overfit_case5.eps')"
   ]
  },
  {
   "cell_type": "code",
   "execution_count": 196,
   "id": "8a76d943",
   "metadata": {},
   "outputs": [
    {
     "name": "stdout",
     "output_type": "stream",
     "text": [
      "Epoch 0 / 20 / Loss : 1.8371161885189815e+00\n",
      "Epoch 1 / 20 / Loss : 1.8109050051085824e+00\n",
      "Epoch 2 / 20 / Loss : 1.7853150120693246e+00\n",
      "Epoch 3 / 20 / Loss : 1.760332815570156e+00\n",
      "Epoch 4 / 20 / Loss : 1.7359452443156662e+00\n",
      "Epoch 5 / 20 / Loss : 1.712139289969853e+00\n",
      "Epoch 6 / 20 / Loss : 1.6889020636076693e+00\n",
      "Epoch 7 / 20 / Loss : 1.6662207651609509e+00\n",
      "Epoch 8 / 20 / Loss : 1.644082663377449e+00\n",
      "Epoch 9 / 20 / Loss : 1.6224750842435904e+00\n",
      "Epoch 10 / 20 / Loss : 1.6013854061694799e+00\n",
      "Epoch 11 / 20 / Loss : 1.5808010605179763e+00\n",
      "Epoch 12 / 20 / Loss : 1.5607095362917425e+00\n",
      "Epoch 13 / 20 / Loss : 1.5410983879874411e+00\n",
      "Epoch 14 / 20 / Loss : 1.521955245792662e+00\n",
      "Epoch 15 / 20 / Loss : 1.5032678274369222e+00\n",
      "Epoch 16 / 20 / Loss : 1.4850239511306247e+00\n",
      "Epoch 17 / 20 / Loss : 1.4672115491236972e+00\n",
      "Epoch 18 / 20 / Loss : 1.4498186815039504e+00\n",
      "Epoch 19 / 20 / Loss : 1.4328335499250544e+00\n"
     ]
    }
   ],
   "source": [
    "import copy\n",
    "n8 = copy.deepcopy(n7)\n",
    "n8.fit(x, y, 20, 0.001)"
   ]
  },
  {
   "cell_type": "code",
   "execution_count": 200,
   "id": "b5ddc803",
   "metadata": {},
   "outputs": [
    {
     "name": "stderr",
     "output_type": "stream",
     "text": [
      "The PostScript backend does not support transparency; partially transparent artists will be rendered opaque.\n"
     ]
    },
    {
     "data": {
      "image/png": "[encoded data removed]",
      "text/plain": [
       "<Figure size 432x288 with 1 Axes>"
      ]
     },
     "metadata": {
      "needs_background": "light"
     },
     "output_type": "display_data"
    }
   ],
   "source": [
    "predicted = list()\n",
    "for i in x:\n",
    "    predicted.append(n8.predict(i))\n",
    "    \n",
    "import matplotlib.pyplot as plt\n",
    "\n",
    "plt.scatter(df.x, df.y, label='real', s=10)\n",
    "plt.scatter(df.x, predicted, label='predicted', s=10)\n",
    "plt.title(\"Predicted and Real Data\")\n",
    "plt.legend()\n",
    "plt.xlabel(\"X\")\n",
    "plt.ylabel(\"Y\")\n",
    "plt.savefig('multilayer_overfit_case6.eps')"
   ]
  },
  {
   "cell_type": "code",
   "execution_count": 201,
   "id": "122877a8",
   "metadata": {},
   "outputs": [
    {
     "name": "stdout",
     "output_type": "stream",
     "text": [
      "Epoch 0 / 20 / Loss : 1.416244511018528e+00\n",
      "Epoch 1 / 20 / Loss : 1.4000400892939617e+00\n",
      "Epoch 2 / 20 / Loss : 1.384208989374342e+00\n",
      "Epoch 3 / 20 / Loss : 1.3687401074523229e+00\n",
      "Epoch 4 / 20 / Loss : 1.3536225418803063e+00\n",
      "Epoch 5 / 20 / Loss : 1.3388456028338684e+00\n",
      "Epoch 6 / 20 / Loss : 1.3243988210090485e+00\n",
      "Epoch 7 / 20 / Loss : 1.3102719553299416e+00\n",
      "Epoch 8 / 20 / Loss : 1.2964549996582866e+00\n",
      "Epoch 9 / 20 / Loss : 1.282938188509134e+00\n",
      "Epoch 10 / 20 / Loss : 1.269712001784373e+00\n",
      "Epoch 11 / 20 / Loss : 1.256767168545772e+00\n",
      "Epoch 12 / 20 / Loss : 1.2440946698566873e+00\n",
      "Epoch 13 / 20 / Loss : 1.231685740724336e+00\n",
      "Epoch 14 / 20 / Loss : 1.2195318711822296e+00\n",
      "Epoch 15 / 20 / Loss : 1.2076248065539914e+00\n",
      "Epoch 16 / 20 / Loss : 1.1959565469440454e+00\n",
      "Epoch 17 / 20 / Loss : 1.1845193460026968e+00\n",
      "Epoch 18 / 20 / Loss : 1.1733057090141361e+00\n",
      "Epoch 19 / 20 / Loss : 1.1623083903589249e+00\n"
     ]
    }
   ],
   "source": [
    "import copy\n",
    "n9 = copy.deepcopy(n8)\n",
    "n9.fit(x, y, 20, 0.001)"
   ]
  },
  {
   "cell_type": "code",
   "execution_count": 203,
   "id": "1583190c",
   "metadata": {},
   "outputs": [
    {
     "data": {
      "text/plain": [
       "===== Layer 1 =====\n",
       "Activiation: linear\n",
       "Node Count (Including Bias): 6\n",
       "Weight Count: 30"
      ]
     },
     "execution_count": 203,
     "metadata": {},
     "output_type": "execute_result"
    }
   ],
   "source": [
    "n9.layers[0]"
   ]
  }
 ],
 "metadata": {
  "kernelspec": {
   "display_name": "Python 3 (ipykernel)",
   "language": "python",
   "name": "python3"
  },
  "language_info": {
   "codemirror_mode": {
    "name": "ipython",
    "version": 3
   },
   "file_extension": ".py",
   "mimetype": "text/x-python",
   "name": "python",
   "nbconvert_exporter": "python",
   "pygments_lexer": "ipython3",
   "version": "3.9.12"
  }
 },
 "nbformat": 4,
 "nbformat_minor": 5
}
